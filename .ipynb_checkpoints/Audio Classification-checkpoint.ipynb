{
 "cells": [
  {
   "cell_type": "code",
   "execution_count": 153,
   "metadata": {},
   "outputs": [],
   "source": [
    "#Audio Classification Of Sounds Which We Listen in Regular Life"
   ]
  },
  {
   "cell_type": "code",
   "execution_count": 154,
   "metadata": {},
   "outputs": [
    {
     "name": "stdout",
     "output_type": "stream",
     "text": [
      "Requirement already satisfied: librosa in c:\\programdata\\anaconda3\\lib\\site-packages (0.8.1)\n",
      "Requirement already satisfied: joblib>=0.14 in c:\\programdata\\anaconda3\\lib\\site-packages (from librosa) (0.17.0)\n",
      "Requirement already satisfied: scipy>=1.0.0 in c:\\programdata\\anaconda3\\lib\\site-packages (from librosa) (1.5.2)\n",
      "Requirement already satisfied: decorator>=3.0.0 in c:\\programdata\\anaconda3\\lib\\site-packages (from librosa) (4.4.2)\n",
      "Requirement already satisfied: resampy>=0.2.2 in c:\\programdata\\anaconda3\\lib\\site-packages (from librosa) (0.2.2)\n",
      "Requirement already satisfied: audioread>=2.0.0 in c:\\programdata\\anaconda3\\lib\\site-packages (from librosa) (2.1.9)\n",
      "Requirement already satisfied: numpy>=1.15.0 in c:\\programdata\\anaconda3\\lib\\site-packages (from librosa) (1.19.2)\n",
      "Requirement already satisfied: numba>=0.43.0 in c:\\programdata\\anaconda3\\lib\\site-packages (from librosa) (0.51.2)\n",
      "Requirement already satisfied: packaging>=20.0 in c:\\programdata\\anaconda3\\lib\\site-packages (from librosa) (20.4)\n",
      "Requirement already satisfied: soundfile>=0.10.2 in c:\\programdata\\anaconda3\\lib\\site-packages (from librosa) (0.10.3.post1)\n",
      "Requirement already satisfied: pooch>=1.0 in c:\\programdata\\anaconda3\\lib\\site-packages (from librosa) (1.5.1)\n",
      "Requirement already satisfied: scikit-learn!=0.19.0,>=0.14.0 in c:\\programdata\\anaconda3\\lib\\site-packages (from librosa) (0.23.2)\n",
      "Requirement already satisfied: six>=1.3 in c:\\programdata\\anaconda3\\lib\\site-packages (from resampy>=0.2.2->librosa) (1.15.0)\n",
      "Requirement already satisfied: llvmlite<0.35,>=0.34.0.dev0 in c:\\programdata\\anaconda3\\lib\\site-packages (from numba>=0.43.0->librosa) (0.34.0)\n",
      "Requirement already satisfied: setuptools in c:\\programdata\\anaconda3\\lib\\site-packages (from numba>=0.43.0->librosa) (50.3.1.post20201107)\n",
      "Requirement already satisfied: pyparsing>=2.0.2 in c:\\programdata\\anaconda3\\lib\\site-packages (from packaging>=20.0->librosa) (2.4.7)\n",
      "Requirement already satisfied: cffi>=1.0 in c:\\programdata\\anaconda3\\lib\\site-packages (from soundfile>=0.10.2->librosa) (1.14.3)\n",
      "Requirement already satisfied: requests in c:\\programdata\\anaconda3\\lib\\site-packages (from pooch>=1.0->librosa) (2.24.0)\n",
      "Requirement already satisfied: appdirs in c:\\programdata\\anaconda3\\lib\\site-packages (from pooch>=1.0->librosa) (1.4.4)\n",
      "Requirement already satisfied: threadpoolctl>=2.0.0 in c:\\programdata\\anaconda3\\lib\\site-packages (from scikit-learn!=0.19.0,>=0.14.0->librosa) (2.1.0)\n",
      "Requirement already satisfied: pycparser in c:\\programdata\\anaconda3\\lib\\site-packages (from cffi>=1.0->soundfile>=0.10.2->librosa) (2.20)\n",
      "Requirement already satisfied: idna<3,>=2.5 in c:\\programdata\\anaconda3\\lib\\site-packages (from requests->pooch>=1.0->librosa) (2.10)\n",
      "Requirement already satisfied: urllib3!=1.25.0,!=1.25.1,<1.26,>=1.21.1 in c:\\programdata\\anaconda3\\lib\\site-packages (from requests->pooch>=1.0->librosa) (1.25.11)\n",
      "Requirement already satisfied: chardet<4,>=3.0.2 in c:\\programdata\\anaconda3\\lib\\site-packages (from requests->pooch>=1.0->librosa) (3.0.4)\n",
      "Requirement already satisfied: certifi>=2017.4.17 in c:\\programdata\\anaconda3\\lib\\site-packages (from requests->pooch>=1.0->librosa) (2020.6.20)\n"
     ]
    }
   ],
   "source": [
    "!pip install librosa"
   ]
  },
  {
   "cell_type": "code",
   "execution_count": 155,
   "metadata": {},
   "outputs": [],
   "source": [
    "import matplotlib.pyplot as plt\n",
    "%matplotlib inline"
   ]
  },
  {
   "cell_type": "code",
   "execution_count": 156,
   "metadata": {},
   "outputs": [],
   "source": [
    "filename=\"Audio/Horn/Car_Horn2.wav\";"
   ]
  },
  {
   "cell_type": "code",
   "execution_count": 157,
   "metadata": {},
   "outputs": [],
   "source": [
    "import IPython.display as ipd\n",
    "import librosa \n",
    "import librosa.display\n",
    "import numpy as np"
   ]
  },
  {
   "cell_type": "code",
   "execution_count": 158,
   "metadata": {},
   "outputs": [],
   "source": [
    "def plotAudioWave(filename):   \n",
    "    plt.figure(figsize=(14,5))\n",
    "    data,sample_rate=librosa.load(filename)\n",
    "    librosa.display.waveplot(data,sr=sample_rate)\n",
    "    #plt.plot(data)\n",
    "    ipd.Audio(filename)"
   ]
  },
  {
   "cell_type": "code",
   "execution_count": 159,
   "metadata": {},
   "outputs": [
    {
     "name": "stderr",
     "output_type": "stream",
     "text": [
      "C:\\ProgramData\\Anaconda3\\lib\\site-packages\\librosa\\core\\spectrum.py:222: UserWarning: n_fft=2048 is too small for input signal of length=40\n",
      "  warnings.warn(\n"
     ]
    },
    {
     "data": {
      "text/plain": [
       "0.15251923"
      ]
     },
     "execution_count": 159,
     "metadata": {},
     "output_type": "execute_result"
    }
   ],
   "source": [
    "#Measuring Decibel\n",
    "S = np.abs(librosa.stft(data))\n",
    "librosa.power_to_db(S**2).min()"
   ]
  },
  {
   "cell_type": "code",
   "execution_count": 160,
   "metadata": {},
   "outputs": [
    {
     "ename": "NameError",
     "evalue": "name 'sample_rate' is not defined",
     "output_type": "error",
     "traceback": [
      "\u001b[1;31m---------------------------------------------------------------------------\u001b[0m",
      "\u001b[1;31mNameError\u001b[0m                                 Traceback (most recent call last)",
      "\u001b[1;32m<ipython-input-160-7346ee2e9481>\u001b[0m in \u001b[0;36m<module>\u001b[1;34m\u001b[0m\n\u001b[1;32m----> 1\u001b[1;33m \u001b[0mmfccs\u001b[0m\u001b[1;33m=\u001b[0m\u001b[0mlibrosa\u001b[0m\u001b[1;33m.\u001b[0m\u001b[0mfeature\u001b[0m\u001b[1;33m.\u001b[0m\u001b[0mmfcc\u001b[0m\u001b[1;33m(\u001b[0m\u001b[0my\u001b[0m\u001b[1;33m=\u001b[0m\u001b[0mdata\u001b[0m\u001b[1;33m,\u001b[0m\u001b[0msr\u001b[0m\u001b[1;33m=\u001b[0m\u001b[0msample_rate\u001b[0m\u001b[1;33m,\u001b[0m\u001b[0mn_mfcc\u001b[0m\u001b[1;33m=\u001b[0m\u001b[1;36m40\u001b[0m\u001b[1;33m)\u001b[0m\u001b[1;33m\u001b[0m\u001b[1;33m\u001b[0m\u001b[0m\n\u001b[0m",
      "\u001b[1;31mNameError\u001b[0m: name 'sample_rate' is not defined"
     ]
    }
   ],
   "source": [
    "mfccs=librosa.feature.mfcc(y=data,sr=sample_rate,n_mfcc=40)"
   ]
  },
  {
   "cell_type": "code",
   "execution_count": null,
   "metadata": {},
   "outputs": [],
   "source": [
    "mfccs"
   ]
  },
  {
   "cell_type": "code",
   "execution_count": null,
   "metadata": {},
   "outputs": [],
   "source": [
    "import pandas as pd\n",
    "import os\n",
    "import librosa\n",
    "from tqdm import tqdm\n",
    "import numpy as np"
   ]
  },
  {
   "cell_type": "code",
   "execution_count": 346,
   "metadata": {},
   "outputs": [],
   "source": [
    "audio_dataset_path='Audio/'\n",
    "csv_data=pd.read_csv('Audio_Dataset(New).csv')"
   ]
  },
  {
   "cell_type": "code",
   "execution_count": 347,
   "metadata": {},
   "outputs": [],
   "source": [
    "def extract_features(file):\n",
    "    audio,sample_rate=librosa.load(filename,res_type='kaiser_fast')\n",
    "    mfccs_features=librosa.feature.mfcc(y=audio,sr=sample_rate,n_mfcc=40)\n",
    "    mfccs_scaled_features=np.mean(mfccs_features.T,axis=0)\n",
    "    \n",
    "    return mfccs_scaled_features"
   ]
  },
  {
   "cell_type": "code",
   "execution_count": 348,
   "metadata": {},
   "outputs": [
    {
     "name": "stderr",
     "output_type": "stream",
     "text": [
      "93it [00:56,  1.64it/s]\n"
     ]
    }
   ],
   "source": [
    "    extracted_features=[]\n",
    "    for index_num,row in tqdm(csv_data.iterrows()):\n",
    "        filename=os.path.join(os.path.abspath(audio_dataset_path),str(row[\"folder\"]),str(row[\"filename\"]))\n",
    "        class_name=row[\"class\"]\n",
    "        data=extract_features(filename)\n",
    "        extracted_features.append([data,class_name])"
   ]
  },
  {
   "cell_type": "code",
   "execution_count": 349,
   "metadata": {},
   "outputs": [
    {
     "data": {
      "text/html": [
       "<div>\n",
       "<style scoped>\n",
       "    .dataframe tbody tr th:only-of-type {\n",
       "        vertical-align: middle;\n",
       "    }\n",
       "\n",
       "    .dataframe tbody tr th {\n",
       "        vertical-align: top;\n",
       "    }\n",
       "\n",
       "    .dataframe thead th {\n",
       "        text-align: right;\n",
       "    }\n",
       "</style>\n",
       "<table border=\"1\" class=\"dataframe\">\n",
       "  <thead>\n",
       "    <tr style=\"text-align: right;\">\n",
       "      <th></th>\n",
       "      <th>feature</th>\n",
       "      <th>class</th>\n",
       "    </tr>\n",
       "  </thead>\n",
       "  <tbody>\n",
       "    <tr>\n",
       "      <th>0</th>\n",
       "      <td>[-458.6312, 84.121346, -79.89857, 29.059214, 3...</td>\n",
       "      <td>bird-chirp</td>\n",
       "    </tr>\n",
       "    <tr>\n",
       "      <th>1</th>\n",
       "      <td>[-437.791, -192.74236, -88.79139, 127.660904, ...</td>\n",
       "      <td>bird-chirp</td>\n",
       "    </tr>\n",
       "    <tr>\n",
       "      <th>2</th>\n",
       "      <td>[-573.88745, -25.46725, 12.589169, 73.12821, -...</td>\n",
       "      <td>bird-chirp</td>\n",
       "    </tr>\n",
       "    <tr>\n",
       "      <th>3</th>\n",
       "      <td>[-175.46107, 10.8919935, -37.204163, 53.11137,...</td>\n",
       "      <td>bird-chirp</td>\n",
       "    </tr>\n",
       "    <tr>\n",
       "      <th>4</th>\n",
       "      <td>[-540.08234, -57.422127, 1.0332566, 59.75111, ...</td>\n",
       "      <td>bird-chirp</td>\n",
       "    </tr>\n",
       "  </tbody>\n",
       "</table>\n",
       "</div>"
      ],
      "text/plain": [
       "                                             feature       class\n",
       "0  [-458.6312, 84.121346, -79.89857, 29.059214, 3...  bird-chirp\n",
       "1  [-437.791, -192.74236, -88.79139, 127.660904, ...  bird-chirp\n",
       "2  [-573.88745, -25.46725, 12.589169, 73.12821, -...  bird-chirp\n",
       "3  [-175.46107, 10.8919935, -37.204163, 53.11137,...  bird-chirp\n",
       "4  [-540.08234, -57.422127, 1.0332566, 59.75111, ...  bird-chirp"
      ]
     },
     "execution_count": 349,
     "metadata": {},
     "output_type": "execute_result"
    }
   ],
   "source": [
    "extracted_features_df=pd.DataFrame(extracted_features,columns=['feature','class'])\n",
    "extracted_features_df.head()"
   ]
  },
  {
   "cell_type": "code",
   "execution_count": 350,
   "metadata": {},
   "outputs": [],
   "source": [
    "x=np.array(extracted_features_df['feature'].tolist())"
   ]
  },
  {
   "cell_type": "code",
   "execution_count": 351,
   "metadata": {},
   "outputs": [
    {
     "data": {
      "text/plain": [
       "array(['bird-chirp', 'bird-chirp', 'bird-chirp', 'bird-chirp',\n",
       "       'bird-chirp', 'bird-chirp', 'bird-chirp', 'bird-chirp',\n",
       "       'bird-chirp', 'bird-chirp', 'Children Playing', 'Children Playing',\n",
       "       'Children Playing', 'Children Playing', 'Children Playing',\n",
       "       'Children Playing', 'Children Playing', 'Children Playing',\n",
       "       'Children Playing', 'Children Playing', 'Children Playing',\n",
       "       'Children Playing', 'Children Playing', 'Children Playing',\n",
       "       'Children Playing', 'Children Playing', 'Children Playing',\n",
       "       'Children Playing', 'Children Playing', 'Children Playing',\n",
       "       'Car-Horn', 'Car-Horn', 'Car-Horn', 'Car-Horn', 'Car-Horn',\n",
       "       'Car-Horn', 'Car-Horn', 'Car-Horn', 'Car-Horn', 'Car-Horn',\n",
       "       'Car-Horn', 'Car-Horn', 'Car-Horn', 'Car-Horn', 'Car-Horn',\n",
       "       'Car-Horn', 'Car-Horn', 'Car-Horn', 'Car-Horn', 'Dog-Bark',\n",
       "       'Dog-Bark', 'Dog-Bark', 'Dog-Bark', 'Dog-Bark', 'Dog-Bark',\n",
       "       'Dog-Bark', 'Dog-Bark', 'Dog-Bark', 'Dog-Bark', 'Dog-Bark',\n",
       "       'Dog-Bark', 'Dog-Bark', 'Dog-Bark', 'Dog-Bark', 'Dog-Bark',\n",
       "       'Dog-Bark', 'Dog-Bark', 'Dog-Bark', 'Dog-Bark', 'Dog-Bark',\n",
       "       'Thunder', 'Thunder', 'Thunder', 'Thunder', 'Thunder', 'Thunder',\n",
       "       'Thunder', 'Thunder', 'Thunder', 'Thunder', 'Cricket-Chirp',\n",
       "       'Cricket-Chirp', 'Cricket-Chirp', 'Cricket-Chirp', 'Cricket-Chirp',\n",
       "       'Cricket-Chirp', 'Cricket-Chirp', 'Cricket-Chirp', 'Cricket-Chirp',\n",
       "       'Cricket-Chirp', 'Cricket-Chirp', 'Cricket-Chirp', 'Cricket-Chirp'],\n",
       "      dtype='<U16')"
      ]
     },
     "execution_count": 351,
     "metadata": {},
     "output_type": "execute_result"
    }
   ],
   "source": [
    "y=np.array(extracted_features_df['class'].tolist())\n",
    "y"
   ]
  },
  {
   "cell_type": "code",
   "execution_count": 352,
   "metadata": {},
   "outputs": [
    {
     "name": "stdout",
     "output_type": "stream",
     "text": [
      "Requirement already up-to-date: tensorflow in c:\\programdata\\anaconda3\\lib\\site-packages (2.6.0)\n",
      "Requirement already satisfied, skipping upgrade: tensorflow-estimator~=2.6 in c:\\programdata\\anaconda3\\lib\\site-packages (from tensorflow) (2.6.0)\n",
      "Requirement already satisfied, skipping upgrade: google-pasta~=0.2 in c:\\programdata\\anaconda3\\lib\\site-packages (from tensorflow) (0.2.0)\n",
      "Requirement already satisfied, skipping upgrade: protobuf>=3.9.2 in c:\\programdata\\anaconda3\\lib\\site-packages (from tensorflow) (3.17.3)\n",
      "Requirement already satisfied, skipping upgrade: keras-preprocessing~=1.1.2 in c:\\programdata\\anaconda3\\lib\\site-packages (from tensorflow) (1.1.2)\n",
      "Requirement already satisfied, skipping upgrade: grpcio<2.0,>=1.37.0 in c:\\programdata\\anaconda3\\lib\\site-packages (from tensorflow) (1.39.0)\n",
      "Requirement already satisfied, skipping upgrade: flatbuffers~=1.12.0 in c:\\programdata\\anaconda3\\lib\\site-packages (from tensorflow) (1.12)\n",
      "Requirement already satisfied, skipping upgrade: gast==0.4.0 in c:\\programdata\\anaconda3\\lib\\site-packages (from tensorflow) (0.4.0)\n",
      "Requirement already satisfied, skipping upgrade: numpy~=1.19.2 in c:\\programdata\\anaconda3\\lib\\site-packages (from tensorflow) (1.19.2)\n",
      "Requirement already satisfied, skipping upgrade: clang~=5.0 in c:\\programdata\\anaconda3\\lib\\site-packages (from tensorflow) (5.0)\n",
      "Requirement already satisfied, skipping upgrade: keras~=2.6 in c:\\programdata\\anaconda3\\lib\\site-packages (from tensorflow) (2.6.0)\n",
      "Requirement already satisfied, skipping upgrade: opt-einsum~=3.3.0 in c:\\programdata\\anaconda3\\lib\\site-packages (from tensorflow) (3.3.0)\n",
      "Requirement already satisfied, skipping upgrade: wrapt~=1.12.1 in c:\\programdata\\anaconda3\\lib\\site-packages (from tensorflow) (1.12.1)\n",
      "Requirement already satisfied, skipping upgrade: astunparse~=1.6.3 in c:\\programdata\\anaconda3\\lib\\site-packages (from tensorflow) (1.6.3)\n",
      "Requirement already satisfied, skipping upgrade: absl-py~=0.10 in c:\\programdata\\anaconda3\\lib\\site-packages (from tensorflow) (0.13.0)\n",
      "Requirement already satisfied, skipping upgrade: termcolor~=1.1.0 in c:\\programdata\\anaconda3\\lib\\site-packages (from tensorflow) (1.1.0)\n",
      "Requirement already satisfied, skipping upgrade: h5py~=3.1.0 in c:\\programdata\\anaconda3\\lib\\site-packages (from tensorflow) (3.1.0)\n",
      "Requirement already satisfied, skipping upgrade: tensorboard~=2.6 in c:\\programdata\\anaconda3\\lib\\site-packages (from tensorflow) (2.6.0)\n",
      "Requirement already satisfied, skipping upgrade: typing-extensions~=3.7.4 in c:\\programdata\\anaconda3\\lib\\site-packages (from tensorflow) (3.7.4.3)\n",
      "Requirement already satisfied, skipping upgrade: six~=1.15.0 in c:\\programdata\\anaconda3\\lib\\site-packages (from tensorflow) (1.15.0)\n",
      "Requirement already satisfied, skipping upgrade: wheel~=0.35 in c:\\programdata\\anaconda3\\lib\\site-packages (from tensorflow) (0.35.1)\n",
      "Requirement already satisfied, skipping upgrade: tensorboard-data-server<0.7.0,>=0.6.0 in c:\\programdata\\anaconda3\\lib\\site-packages (from tensorboard~=2.6->tensorflow) (0.6.1)\n",
      "Requirement already satisfied, skipping upgrade: google-auth<2,>=1.6.3 in c:\\programdata\\anaconda3\\lib\\site-packages (from tensorboard~=2.6->tensorflow) (1.35.0)\n",
      "Requirement already satisfied, skipping upgrade: setuptools>=41.0.0 in c:\\programdata\\anaconda3\\lib\\site-packages (from tensorboard~=2.6->tensorflow) (50.3.1.post20201107)\n",
      "Requirement already satisfied, skipping upgrade: google-auth-oauthlib<0.5,>=0.4.1 in c:\\programdata\\anaconda3\\lib\\site-packages (from tensorboard~=2.6->tensorflow) (0.4.5)\n",
      "Requirement already satisfied, skipping upgrade: markdown>=2.6.8 in c:\\programdata\\anaconda3\\lib\\site-packages (from tensorboard~=2.6->tensorflow) (3.3.4)\n",
      "Requirement already satisfied, skipping upgrade: requests<3,>=2.21.0 in c:\\programdata\\anaconda3\\lib\\site-packages (from tensorboard~=2.6->tensorflow) (2.24.0)\n",
      "Requirement already satisfied, skipping upgrade: werkzeug>=0.11.15 in c:\\programdata\\anaconda3\\lib\\site-packages (from tensorboard~=2.6->tensorflow) (1.0.1)\n",
      "Requirement already satisfied, skipping upgrade: tensorboard-plugin-wit>=1.6.0 in c:\\programdata\\anaconda3\\lib\\site-packages (from tensorboard~=2.6->tensorflow) (1.8.0)\n",
      "Requirement already satisfied, skipping upgrade: rsa<5,>=3.1.4; python_version >= \"3.6\" in c:\\programdata\\anaconda3\\lib\\site-packages (from google-auth<2,>=1.6.3->tensorboard~=2.6->tensorflow) (4.7.2)\n",
      "Requirement already satisfied, skipping upgrade: cachetools<5.0,>=2.0.0 in c:\\programdata\\anaconda3\\lib\\site-packages (from google-auth<2,>=1.6.3->tensorboard~=2.6->tensorflow) (4.2.2)\n",
      "Requirement already satisfied, skipping upgrade: pyasn1-modules>=0.2.1 in c:\\programdata\\anaconda3\\lib\\site-packages (from google-auth<2,>=1.6.3->tensorboard~=2.6->tensorflow) (0.2.8)\n",
      "Requirement already satisfied, skipping upgrade: requests-oauthlib>=0.7.0 in c:\\programdata\\anaconda3\\lib\\site-packages (from google-auth-oauthlib<0.5,>=0.4.1->tensorboard~=2.6->tensorflow) (1.3.0)\n",
      "Requirement already satisfied, skipping upgrade: chardet<4,>=3.0.2 in c:\\programdata\\anaconda3\\lib\\site-packages (from requests<3,>=2.21.0->tensorboard~=2.6->tensorflow) (3.0.4)\n",
      "Requirement already satisfied, skipping upgrade: idna<3,>=2.5 in c:\\programdata\\anaconda3\\lib\\site-packages (from requests<3,>=2.21.0->tensorboard~=2.6->tensorflow) (2.10)\n",
      "Requirement already satisfied, skipping upgrade: certifi>=2017.4.17 in c:\\programdata\\anaconda3\\lib\\site-packages (from requests<3,>=2.21.0->tensorboard~=2.6->tensorflow) (2020.6.20)\n",
      "Requirement already satisfied, skipping upgrade: urllib3!=1.25.0,!=1.25.1,<1.26,>=1.21.1 in c:\\programdata\\anaconda3\\lib\\site-packages (from requests<3,>=2.21.0->tensorboard~=2.6->tensorflow) (1.25.11)\n",
      "Requirement already satisfied, skipping upgrade: pyasn1>=0.1.3 in c:\\programdata\\anaconda3\\lib\\site-packages (from rsa<5,>=3.1.4; python_version >= \"3.6\"->google-auth<2,>=1.6.3->tensorboard~=2.6->tensorflow) (0.4.8)\n",
      "Requirement already satisfied, skipping upgrade: oauthlib>=3.0.0 in c:\\programdata\\anaconda3\\lib\\site-packages (from requests-oauthlib>=0.7.0->google-auth-oauthlib<0.5,>=0.4.1->tensorboard~=2.6->tensorflow) (3.1.1)\n"
     ]
    }
   ],
   "source": [
    "!pip install --upgrade tensorflow\n",
    "from tensorflow.keras.utils import to_categorical\n",
    "from sklearn.preprocessing import LabelEncoder\n",
    "labelEncoder= LabelEncoder()\n",
    "y=to_categorical(labelEncoder.fit_transform(y))"
   ]
  },
  {
   "cell_type": "code",
   "execution_count": 353,
   "metadata": {},
   "outputs": [],
   "source": [
    "#Train Test Split\n",
    "from sklearn.model_selection import train_test_split\n",
    "X_train,X_test,Y_train,Y_Test=train_test_split(x,y,test_size=0.2,random_state=0)"
   ]
  },
  {
   "cell_type": "code",
   "execution_count": 354,
   "metadata": {},
   "outputs": [],
   "source": [
    "from tensorflow.keras.models import Sequential\n",
    "from tensorflow.keras.layers import Dense,Dropout,Activation,Flatten\n",
    "from tensorflow.keras.optimizers import Adam\n",
    "from sklearn import metrics"
   ]
  },
  {
   "cell_type": "code",
   "execution_count": 355,
   "metadata": {},
   "outputs": [],
   "source": [
    "num_labels=y.shape[1]\n"
   ]
  },
  {
   "cell_type": "code",
   "execution_count": 356,
   "metadata": {},
   "outputs": [],
   "source": [
    "model=Sequential()\n",
    "#first layer\n",
    "model.add(Dense(100,input_shape=(40,)))\n",
    "model.add(Activation('relu'))\n",
    "model.add(Dropout(0.5))\n",
    "\n",
    "#second layer\n",
    "model.add(Dense(200))\n",
    "model.add(Activation('relu'))\n",
    "model.add(Dropout(0.5))\n",
    "\n",
    "#third layer\n",
    "model.add(Dense(100))\n",
    "model.add(Activation('relu'))\n",
    "model.add(Dropout(0.5))\n",
    "\n",
    "#final layer\n",
    "model.add(Dense(num_labels))\n",
    "model.add(Activation('softmax'))"
   ]
  },
  {
   "cell_type": "code",
   "execution_count": 357,
   "metadata": {},
   "outputs": [
    {
     "name": "stdout",
     "output_type": "stream",
     "text": [
      "Model: \"sequential_24\"\n",
      "_________________________________________________________________\n",
      "Layer (type)                 Output Shape              Param #   \n",
      "=================================================================\n",
      "dense_60 (Dense)             (None, 100)               4100      \n",
      "_________________________________________________________________\n",
      "activation_150 (Activation)  (None, 100)               0         \n",
      "_________________________________________________________________\n",
      "dropout_90 (Dropout)         (None, 100)               0         \n",
      "_________________________________________________________________\n",
      "dense_61 (Dense)             (None, 200)               20200     \n",
      "_________________________________________________________________\n",
      "activation_151 (Activation)  (None, 200)               0         \n",
      "_________________________________________________________________\n",
      "dropout_91 (Dropout)         (None, 200)               0         \n",
      "_________________________________________________________________\n",
      "dense_62 (Dense)             (None, 100)               20100     \n",
      "_________________________________________________________________\n",
      "activation_152 (Activation)  (None, 100)               0         \n",
      "_________________________________________________________________\n",
      "dropout_92 (Dropout)         (None, 100)               0         \n",
      "_________________________________________________________________\n",
      "dense_63 (Dense)             (None, 6)                 606       \n",
      "_________________________________________________________________\n",
      "activation_153 (Activation)  (None, 6)                 0         \n",
      "=================================================================\n",
      "Total params: 45,006\n",
      "Trainable params: 45,006\n",
      "Non-trainable params: 0\n",
      "_________________________________________________________________\n"
     ]
    }
   ],
   "source": [
    "model.summary()"
   ]
  },
  {
   "cell_type": "code",
   "execution_count": 358,
   "metadata": {},
   "outputs": [],
   "source": [
    "model.compile(loss='categorical_crossentropy',metrics=['accuracy'],optimizer='adam')"
   ]
  },
  {
   "cell_type": "code",
   "execution_count": 359,
   "metadata": {},
   "outputs": [
    {
     "name": "stdout",
     "output_type": "stream",
     "text": [
      "Epoch 1/100\n",
      "3/3 [==============================] - 1s 65ms/step - loss: 60.6587 - accuracy: 0.0946 - val_loss: 10.3784 - val_accuracy: 0.1579\n",
      "\n",
      "Epoch 00001: val_loss improved from inf to 10.37838, saving model to saved-models\\audio-classification\n",
      "INFO:tensorflow:Assets written to: saved-models\\audio-classification\\assets\n",
      "Epoch 2/100\n",
      "3/3 [==============================] - 0s 13ms/step - loss: 54.0266 - accuracy: 0.1757 - val_loss: 6.4394 - val_accuracy: 0.2105\n",
      "\n",
      "Epoch 00002: val_loss improved from 10.37838 to 6.43940, saving model to saved-models\\audio-classification\n",
      "INFO:tensorflow:Assets written to: saved-models\\audio-classification\\assets\n",
      "Epoch 3/100\n",
      "3/3 [==============================] - 0s 14ms/step - loss: 54.0799 - accuracy: 0.1622 - val_loss: 6.4009 - val_accuracy: 0.3684\n",
      "\n",
      "Epoch 00003: val_loss improved from 6.43940 to 6.40086, saving model to saved-models\\audio-classification\n",
      "INFO:tensorflow:Assets written to: saved-models\\audio-classification\\assets\n",
      "Epoch 4/100\n",
      "3/3 [==============================] - 0s 14ms/step - loss: 47.5704 - accuracy: 0.2027 - val_loss: 7.5288 - val_accuracy: 0.3684\n",
      "\n",
      "Epoch 00004: val_loss did not improve from 6.40086\n",
      "Epoch 5/100\n",
      "3/3 [==============================] - 0s 17ms/step - loss: 55.8742 - accuracy: 0.0811 - val_loss: 8.5509 - val_accuracy: 0.3684\n",
      "\n",
      "Epoch 00005: val_loss did not improve from 6.40086\n",
      "Epoch 6/100\n",
      "3/3 [==============================] - 0s 14ms/step - loss: 35.5624 - accuracy: 0.2162 - val_loss: 8.2636 - val_accuracy: 0.3684\n",
      "\n",
      "Epoch 00006: val_loss did not improve from 6.40086\n",
      "Epoch 7/100\n",
      "3/3 [==============================] - 0s 15ms/step - loss: 33.2717 - accuracy: 0.1892 - val_loss: 7.3877 - val_accuracy: 0.3684\n",
      "\n",
      "Epoch 00007: val_loss did not improve from 6.40086\n",
      "Epoch 8/100\n",
      "3/3 [==============================] - 0s 12ms/step - loss: 37.8353 - accuracy: 0.1081 - val_loss: 6.3249 - val_accuracy: 0.3684\n",
      "\n",
      "Epoch 00008: val_loss improved from 6.40086 to 6.32492, saving model to saved-models\\audio-classification\n",
      "INFO:tensorflow:Assets written to: saved-models\\audio-classification\\assets\n",
      "Epoch 9/100\n",
      "3/3 [==============================] - 0s 15ms/step - loss: 31.2239 - accuracy: 0.2432 - val_loss: 5.7677 - val_accuracy: 0.4211\n",
      "\n",
      "Epoch 00009: val_loss improved from 6.32492 to 5.76768, saving model to saved-models\\audio-classification\n",
      "INFO:tensorflow:Assets written to: saved-models\\audio-classification\\assets\n",
      "Epoch 10/100\n",
      "3/3 [==============================] - 0s 15ms/step - loss: 23.1548 - accuracy: 0.2973 - val_loss: 4.8768 - val_accuracy: 0.3684\n",
      "\n",
      "Epoch 00010: val_loss improved from 5.76768 to 4.87678, saving model to saved-models\\audio-classification\n",
      "INFO:tensorflow:Assets written to: saved-models\\audio-classification\\assets\n",
      "Epoch 11/100\n",
      "3/3 [==============================] - 0s 16ms/step - loss: 26.7794 - accuracy: 0.2027 - val_loss: 4.2939 - val_accuracy: 0.4211\n",
      "\n",
      "Epoch 00011: val_loss improved from 4.87678 to 4.29385, saving model to saved-models\\audio-classification\n",
      "INFO:tensorflow:Assets written to: saved-models\\audio-classification\\assets\n",
      "Epoch 12/100\n",
      "3/3 [==============================] - 0s 11ms/step - loss: 24.5606 - accuracy: 0.2027 - val_loss: 3.7141 - val_accuracy: 0.4211\n",
      "\n",
      "Epoch 00012: val_loss improved from 4.29385 to 3.71408, saving model to saved-models\\audio-classification\n",
      "INFO:tensorflow:Assets written to: saved-models\\audio-classification\\assets\n",
      "Epoch 13/100\n",
      "3/3 [==============================] - 0s 15ms/step - loss: 22.6007 - accuracy: 0.2568 - val_loss: 2.9918 - val_accuracy: 0.4211\n",
      "\n",
      "Epoch 00013: val_loss improved from 3.71408 to 2.99183, saving model to saved-models\\audio-classification\n",
      "INFO:tensorflow:Assets written to: saved-models\\audio-classification\\assets\n",
      "Epoch 14/100\n",
      "3/3 [==============================] - 0s 17ms/step - loss: 22.1335 - accuracy: 0.2432 - val_loss: 2.4242 - val_accuracy: 0.4211\n",
      "\n",
      "Epoch 00014: val_loss improved from 2.99183 to 2.42421, saving model to saved-models\\audio-classification\n",
      "INFO:tensorflow:Assets written to: saved-models\\audio-classification\\assets\n",
      "Epoch 15/100\n",
      "3/3 [==============================] - 0s 12ms/step - loss: 21.4139 - accuracy: 0.1892 - val_loss: 1.9820 - val_accuracy: 0.4737\n",
      "\n",
      "Epoch 00015: val_loss improved from 2.42421 to 1.98197, saving model to saved-models\\audio-classification\n",
      "INFO:tensorflow:Assets written to: saved-models\\audio-classification\\assets\n",
      "Epoch 16/100\n",
      "3/3 [==============================] - 0s 13ms/step - loss: 18.5604 - accuracy: 0.2027 - val_loss: 1.6479 - val_accuracy: 0.4211\n",
      "\n",
      "Epoch 00016: val_loss improved from 1.98197 to 1.64788, saving model to saved-models\\audio-classification\n",
      "INFO:tensorflow:Assets written to: saved-models\\audio-classification\\assets\n",
      "Epoch 17/100\n",
      "3/3 [==============================] - 0s 13ms/step - loss: 20.4524 - accuracy: 0.1351 - val_loss: 1.4665 - val_accuracy: 0.3684\n",
      "\n",
      "Epoch 00017: val_loss improved from 1.64788 to 1.46649, saving model to saved-models\\audio-classification\n",
      "INFO:tensorflow:Assets written to: saved-models\\audio-classification\\assets\n",
      "Epoch 18/100\n",
      "3/3 [==============================] - 0s 17ms/step - loss: 14.6922 - accuracy: 0.3378 - val_loss: 1.3998 - val_accuracy: 0.4211\n",
      "\n",
      "Epoch 00018: val_loss improved from 1.46649 to 1.39976, saving model to saved-models\\audio-classification\n",
      "INFO:tensorflow:Assets written to: saved-models\\audio-classification\\assets\n",
      "Epoch 19/100\n",
      "3/3 [==============================] - 0s 16ms/step - loss: 21.4358 - accuracy: 0.2297 - val_loss: 1.3607 - val_accuracy: 0.4211\n",
      "\n",
      "Epoch 00019: val_loss improved from 1.39976 to 1.36070, saving model to saved-models\\audio-classification\n",
      "INFO:tensorflow:Assets written to: saved-models\\audio-classification\\assets\n",
      "Epoch 20/100\n",
      "3/3 [==============================] - 0s 15ms/step - loss: 16.2910 - accuracy: 0.1892 - val_loss: 1.2920 - val_accuracy: 0.4737\n",
      "\n",
      "Epoch 00020: val_loss improved from 1.36070 to 1.29196, saving model to saved-models\\audio-classification\n",
      "INFO:tensorflow:Assets written to: saved-models\\audio-classification\\assets\n",
      "Epoch 21/100\n",
      "3/3 [==============================] - 0s 14ms/step - loss: 16.8333 - accuracy: 0.2162 - val_loss: 1.2696 - val_accuracy: 0.5789\n",
      "\n",
      "Epoch 00021: val_loss improved from 1.29196 to 1.26957, saving model to saved-models\\audio-classification\n",
      "INFO:tensorflow:Assets written to: saved-models\\audio-classification\\assets\n",
      "Epoch 22/100\n",
      "3/3 [==============================] - 0s 12ms/step - loss: 16.9555 - accuracy: 0.1622 - val_loss: 1.2709 - val_accuracy: 0.6316\n",
      "\n",
      "Epoch 00022: val_loss did not improve from 1.26957\n",
      "Epoch 23/100\n",
      "3/3 [==============================] - 0s 17ms/step - loss: 15.8308 - accuracy: 0.2432 - val_loss: 1.3229 - val_accuracy: 0.6316\n",
      "\n",
      "Epoch 00023: val_loss did not improve from 1.26957\n",
      "Epoch 24/100\n",
      "3/3 [==============================] - 0s 15ms/step - loss: 14.4711 - accuracy: 0.2297 - val_loss: 1.3245 - val_accuracy: 0.5789\n",
      "\n",
      "Epoch 00024: val_loss did not improve from 1.26957\n",
      "Epoch 25/100\n",
      "3/3 [==============================] - 0s 14ms/step - loss: 13.0985 - accuracy: 0.3108 - val_loss: 1.2956 - val_accuracy: 0.5789\n",
      "\n",
      "Epoch 00025: val_loss did not improve from 1.26957\n",
      "Epoch 26/100\n",
      "3/3 [==============================] - 0s 12ms/step - loss: 13.7624 - accuracy: 0.3243 - val_loss: 1.3089 - val_accuracy: 0.5263\n",
      "\n",
      "Epoch 00026: val_loss did not improve from 1.26957\n",
      "Epoch 27/100\n",
      "3/3 [==============================] - 0s 12ms/step - loss: 13.1964 - accuracy: 0.2703 - val_loss: 1.3331 - val_accuracy: 0.5263\n",
      "\n",
      "Epoch 00027: val_loss did not improve from 1.26957\n",
      "Epoch 28/100\n",
      "3/3 [==============================] - 0s 11ms/step - loss: 12.9419 - accuracy: 0.2432 - val_loss: 1.3667 - val_accuracy: 0.5263\n",
      "\n",
      "Epoch 00028: val_loss did not improve from 1.26957\n",
      "Epoch 29/100\n",
      "3/3 [==============================] - 0s 17ms/step - loss: 12.3708 - accuracy: 0.1892 - val_loss: 1.4249 - val_accuracy: 0.4737\n",
      "\n",
      "Epoch 00029: val_loss did not improve from 1.26957\n",
      "Epoch 30/100\n",
      "3/3 [==============================] - 0s 13ms/step - loss: 13.1973 - accuracy: 0.1622 - val_loss: 1.4128 - val_accuracy: 0.3684\n",
      "\n",
      "Epoch 00030: val_loss did not improve from 1.26957\n",
      "Epoch 31/100\n",
      "3/3 [==============================] - 0s 17ms/step - loss: 11.8990 - accuracy: 0.2297 - val_loss: 1.4041 - val_accuracy: 0.4211\n",
      "\n",
      "Epoch 00031: val_loss did not improve from 1.26957\n",
      "Epoch 32/100\n",
      "3/3 [==============================] - 0s 13ms/step - loss: 9.2962 - accuracy: 0.3243 - val_loss: 1.3945 - val_accuracy: 0.3684\n",
      "\n",
      "Epoch 00032: val_loss did not improve from 1.26957\n",
      "Epoch 33/100\n",
      "3/3 [==============================] - 0s 23ms/step - loss: 8.2265 - accuracy: 0.2838 - val_loss: 1.3667 - val_accuracy: 0.4211\n",
      "\n",
      "Epoch 00033: val_loss did not improve from 1.26957\n",
      "Epoch 34/100\n",
      "3/3 [==============================] - 0s 19ms/step - loss: 8.4476 - accuracy: 0.2838 - val_loss: 1.3275 - val_accuracy: 0.4211\n",
      "\n",
      "Epoch 00034: val_loss did not improve from 1.26957\n",
      "Epoch 35/100\n",
      "3/3 [==============================] - 0s 23ms/step - loss: 10.8200 - accuracy: 0.2297 - val_loss: 1.2826 - val_accuracy: 0.4737\n",
      "\n",
      "Epoch 00035: val_loss did not improve from 1.26957\n",
      "Epoch 36/100\n",
      "3/3 [==============================] - 0s 19ms/step - loss: 9.3933 - accuracy: 0.2297 - val_loss: 1.2451 - val_accuracy: 0.4737\n",
      "\n",
      "Epoch 00036: val_loss improved from 1.26957 to 1.24512, saving model to saved-models\\audio-classification\n",
      "INFO:tensorflow:Assets written to: saved-models\\audio-classification\\assets\n",
      "Epoch 37/100\n",
      "3/3 [==============================] - 0s 14ms/step - loss: 11.2086 - accuracy: 0.2162 - val_loss: 1.2241 - val_accuracy: 0.4737\n",
      "\n",
      "Epoch 00037: val_loss improved from 1.24512 to 1.22406, saving model to saved-models\\audio-classification\n",
      "INFO:tensorflow:Assets written to: saved-models\\audio-classification\\assets\n",
      "Epoch 38/100\n",
      "3/3 [==============================] - 0s 15ms/step - loss: 8.8217 - accuracy: 0.2973 - val_loss: 1.2217 - val_accuracy: 0.4737\n",
      "\n",
      "Epoch 00038: val_loss improved from 1.22406 to 1.22175, saving model to saved-models\\audio-classification\n",
      "INFO:tensorflow:Assets written to: saved-models\\audio-classification\\assets\n",
      "Epoch 39/100\n",
      "3/3 [==============================] - 0s 14ms/step - loss: 8.3392 - accuracy: 0.2568 - val_loss: 1.2145 - val_accuracy: 0.5789\n",
      "\n",
      "Epoch 00039: val_loss improved from 1.22175 to 1.21454, saving model to saved-models\\audio-classification\n",
      "INFO:tensorflow:Assets written to: saved-models\\audio-classification\\assets\n",
      "Epoch 40/100\n",
      "3/3 [==============================] - 0s 13ms/step - loss: 7.9647 - accuracy: 0.3514 - val_loss: 1.2016 - val_accuracy: 0.5263\n",
      "\n",
      "Epoch 00040: val_loss improved from 1.21454 to 1.20163, saving model to saved-models\\audio-classification\n",
      "INFO:tensorflow:Assets written to: saved-models\\audio-classification\\assets\n",
      "Epoch 41/100\n",
      "3/3 [==============================] - 0s 14ms/step - loss: 7.5150 - accuracy: 0.2568 - val_loss: 1.1895 - val_accuracy: 0.6316\n",
      "\n",
      "Epoch 00041: val_loss improved from 1.20163 to 1.18946, saving model to saved-models\\audio-classification\n",
      "INFO:tensorflow:Assets written to: saved-models\\audio-classification\\assets\n",
      "Epoch 42/100\n",
      "3/3 [==============================] - 0s 13ms/step - loss: 7.4865 - accuracy: 0.2838 - val_loss: 1.1826 - val_accuracy: 0.6316\n",
      "\n",
      "Epoch 00042: val_loss improved from 1.18946 to 1.18257, saving model to saved-models\\audio-classification\n",
      "INFO:tensorflow:Assets written to: saved-models\\audio-classification\\assets\n",
      "Epoch 43/100\n",
      "3/3 [==============================] - 0s 14ms/step - loss: 8.6911 - accuracy: 0.2432 - val_loss: 1.1834 - val_accuracy: 0.6842\n",
      "\n",
      "Epoch 00043: val_loss did not improve from 1.18257\n",
      "Epoch 44/100\n",
      "3/3 [==============================] - 0s 12ms/step - loss: 7.1431 - accuracy: 0.3378 - val_loss: 1.1810 - val_accuracy: 0.6842\n",
      "\n",
      "Epoch 00044: val_loss improved from 1.18257 to 1.18098, saving model to saved-models\\audio-classification\n",
      "INFO:tensorflow:Assets written to: saved-models\\audio-classification\\assets\n",
      "Epoch 45/100\n",
      "3/3 [==============================] - 0s 11ms/step - loss: 7.3606 - accuracy: 0.3108 - val_loss: 1.1973 - val_accuracy: 0.6842\n",
      "\n",
      "Epoch 00045: val_loss did not improve from 1.18098\n",
      "Epoch 46/100\n",
      "3/3 [==============================] - 0s 13ms/step - loss: 5.7104 - accuracy: 0.2432 - val_loss: 1.2153 - val_accuracy: 0.6842\n",
      "\n",
      "Epoch 00046: val_loss did not improve from 1.18098\n",
      "Epoch 47/100\n",
      "3/3 [==============================] - 0s 11ms/step - loss: 7.0393 - accuracy: 0.2162 - val_loss: 1.2338 - val_accuracy: 0.6842\n",
      "\n",
      "Epoch 00047: val_loss did not improve from 1.18098\n",
      "Epoch 48/100\n",
      "3/3 [==============================] - 0s 10ms/step - loss: 7.5912 - accuracy: 0.2568 - val_loss: 1.2566 - val_accuracy: 0.6842\n",
      "\n",
      "Epoch 00048: val_loss did not improve from 1.18098\n",
      "Epoch 49/100\n",
      "3/3 [==============================] - 0s 13ms/step - loss: 6.1951 - accuracy: 0.2432 - val_loss: 1.2663 - val_accuracy: 0.6842\n",
      "\n",
      "Epoch 00049: val_loss did not improve from 1.18098\n",
      "Epoch 50/100\n",
      "3/3 [==============================] - 0s 14ms/step - loss: 5.8872 - accuracy: 0.3108 - val_loss: 1.2722 - val_accuracy: 0.6842\n",
      "\n",
      "Epoch 00050: val_loss did not improve from 1.18098\n",
      "Epoch 51/100\n",
      "3/3 [==============================] - 0s 12ms/step - loss: 5.2283 - accuracy: 0.2973 - val_loss: 1.2711 - val_accuracy: 0.7895\n",
      "\n",
      "Epoch 00051: val_loss did not improve from 1.18098\n",
      "Epoch 52/100\n",
      "3/3 [==============================] - 0s 15ms/step - loss: 6.8257 - accuracy: 0.3108 - val_loss: 1.2667 - val_accuracy: 0.7895\n",
      "\n",
      "Epoch 00052: val_loss did not improve from 1.18098\n",
      "Epoch 53/100\n",
      "3/3 [==============================] - 0s 14ms/step - loss: 4.7775 - accuracy: 0.3108 - val_loss: 1.2727 - val_accuracy: 0.7895\n",
      "\n",
      "Epoch 00053: val_loss did not improve from 1.18098\n",
      "Epoch 54/100\n",
      "3/3 [==============================] - 0s 15ms/step - loss: 5.6639 - accuracy: 0.3514 - val_loss: 1.2868 - val_accuracy: 0.7895\n",
      "\n",
      "Epoch 00054: val_loss did not improve from 1.18098\n",
      "Epoch 55/100\n",
      "3/3 [==============================] - 0s 17ms/step - loss: 5.2294 - accuracy: 0.2973 - val_loss: 1.2919 - val_accuracy: 0.7368\n",
      "\n",
      "Epoch 00055: val_loss did not improve from 1.18098\n",
      "Epoch 56/100\n",
      "3/3 [==============================] - 0s 16ms/step - loss: 5.8975 - accuracy: 0.3108 - val_loss: 1.3037 - val_accuracy: 0.6842\n",
      "\n",
      "Epoch 00056: val_loss did not improve from 1.18098\n",
      "Epoch 57/100\n",
      "3/3 [==============================] - 0s 19ms/step - loss: 6.5806 - accuracy: 0.2838 - val_loss: 1.3239 - val_accuracy: 0.7368\n",
      "\n",
      "Epoch 00057: val_loss did not improve from 1.18098\n",
      "Epoch 58/100\n",
      "3/3 [==============================] - 0s 14ms/step - loss: 5.4113 - accuracy: 0.3108 - val_loss: 1.3523 - val_accuracy: 0.7368\n",
      "\n",
      "Epoch 00058: val_loss did not improve from 1.18098\n",
      "Epoch 59/100\n",
      "3/3 [==============================] - 0s 13ms/step - loss: 5.2025 - accuracy: 0.3243 - val_loss: 1.3818 - val_accuracy: 0.7368\n",
      "\n",
      "Epoch 00059: val_loss did not improve from 1.18098\n",
      "Epoch 60/100\n",
      "3/3 [==============================] - 0s 11ms/step - loss: 4.4948 - accuracy: 0.3378 - val_loss: 1.3947 - val_accuracy: 0.7368\n",
      "\n",
      "Epoch 00060: val_loss did not improve from 1.18098\n",
      "Epoch 61/100\n",
      "3/3 [==============================] - 0s 16ms/step - loss: 5.7192 - accuracy: 0.2973 - val_loss: 1.4134 - val_accuracy: 0.7368\n",
      "\n",
      "Epoch 00061: val_loss did not improve from 1.18098\n",
      "Epoch 62/100\n",
      "3/3 [==============================] - 0s 18ms/step - loss: 4.6111 - accuracy: 0.2703 - val_loss: 1.4325 - val_accuracy: 0.7368\n",
      "\n",
      "Epoch 00062: val_loss did not improve from 1.18098\n",
      "Epoch 63/100\n",
      "3/3 [==============================] - 0s 16ms/step - loss: 4.5428 - accuracy: 0.2838 - val_loss: 1.4381 - val_accuracy: 0.7368\n",
      "\n",
      "Epoch 00063: val_loss did not improve from 1.18098\n",
      "Epoch 64/100\n",
      "3/3 [==============================] - 0s 17ms/step - loss: 4.2453 - accuracy: 0.3108 - val_loss: 1.4363 - val_accuracy: 0.7368\n",
      "\n",
      "Epoch 00064: val_loss did not improve from 1.18098\n",
      "Epoch 65/100\n",
      "3/3 [==============================] - 0s 15ms/step - loss: 4.9715 - accuracy: 0.2838 - val_loss: 1.4317 - val_accuracy: 0.7368\n",
      "\n",
      "Epoch 00065: val_loss did not improve from 1.18098\n",
      "Epoch 66/100\n",
      "3/3 [==============================] - 0s 13ms/step - loss: 3.4892 - accuracy: 0.2568 - val_loss: 1.4204 - val_accuracy: 0.6842\n",
      "\n",
      "Epoch 00066: val_loss did not improve from 1.18098\n",
      "Epoch 67/100\n",
      "3/3 [==============================] - 0s 13ms/step - loss: 4.8899 - accuracy: 0.2568 - val_loss: 1.4102 - val_accuracy: 0.6842\n",
      "\n",
      "Epoch 00067: val_loss did not improve from 1.18098\n",
      "Epoch 68/100\n",
      "3/3 [==============================] - 0s 14ms/step - loss: 3.7743 - accuracy: 0.3108 - val_loss: 1.4015 - val_accuracy: 0.6842\n",
      "\n",
      "Epoch 00068: val_loss did not improve from 1.18098\n",
      "Epoch 69/100\n",
      "3/3 [==============================] - 0s 14ms/step - loss: 4.4034 - accuracy: 0.3784 - val_loss: 1.4033 - val_accuracy: 0.6842\n",
      "\n",
      "Epoch 00069: val_loss did not improve from 1.18098\n",
      "Epoch 70/100\n",
      "3/3 [==============================] - 0s 22ms/step - loss: 4.5188 - accuracy: 0.3108 - val_loss: 1.4049 - val_accuracy: 0.6842\n",
      "\n",
      "Epoch 00070: val_loss did not improve from 1.18098\n",
      "Epoch 71/100\n",
      "3/3 [==============================] - 0s 21ms/step - loss: 4.4982 - accuracy: 0.2297 - val_loss: 1.4069 - val_accuracy: 0.6316\n",
      "\n",
      "Epoch 00071: val_loss did not improve from 1.18098\n",
      "Epoch 72/100\n",
      "3/3 [==============================] - 0s 18ms/step - loss: 3.4165 - accuracy: 0.3514 - val_loss: 1.4116 - val_accuracy: 0.6316\n",
      "\n",
      "Epoch 00072: val_loss did not improve from 1.18098\n",
      "Epoch 73/100\n",
      "3/3 [==============================] - 0s 13ms/step - loss: 4.0537 - accuracy: 0.3514 - val_loss: 1.4183 - val_accuracy: 0.6316\n",
      "\n",
      "Epoch 00073: val_loss did not improve from 1.18098\n",
      "Epoch 74/100\n",
      "3/3 [==============================] - 0s 17ms/step - loss: 4.1001 - accuracy: 0.3378 - val_loss: 1.4272 - val_accuracy: 0.6316\n",
      "\n",
      "Epoch 00074: val_loss did not improve from 1.18098\n",
      "Epoch 75/100\n",
      "3/3 [==============================] - 0s 19ms/step - loss: 3.2237 - accuracy: 0.3378 - val_loss: 1.4321 - val_accuracy: 0.6316\n",
      "\n",
      "Epoch 00075: val_loss did not improve from 1.18098\n",
      "Epoch 76/100\n",
      "3/3 [==============================] - 0s 14ms/step - loss: 3.5866 - accuracy: 0.3514 - val_loss: 1.4388 - val_accuracy: 0.6316\n",
      "\n",
      "Epoch 00076: val_loss did not improve from 1.18098\n",
      "Epoch 77/100\n",
      "3/3 [==============================] - 0s 22ms/step - loss: 3.7217 - accuracy: 0.3378 - val_loss: 1.4402 - val_accuracy: 0.6316\n",
      "\n",
      "Epoch 00077: val_loss did not improve from 1.18098\n",
      "Epoch 78/100\n",
      "3/3 [==============================] - 0s 20ms/step - loss: 3.5475 - accuracy: 0.3243 - val_loss: 1.4388 - val_accuracy: 0.6316\n",
      "\n",
      "Epoch 00078: val_loss did not improve from 1.18098\n",
      "Epoch 79/100\n",
      "3/3 [==============================] - 0s 14ms/step - loss: 3.9681 - accuracy: 0.2297 - val_loss: 1.4417 - val_accuracy: 0.6316\n",
      "\n",
      "Epoch 00079: val_loss did not improve from 1.18098\n",
      "Epoch 80/100\n",
      "3/3 [==============================] - 0s 14ms/step - loss: 3.1544 - accuracy: 0.2568 - val_loss: 1.4405 - val_accuracy: 0.6842\n",
      "\n",
      "Epoch 00080: val_loss did not improve from 1.18098\n",
      "Epoch 81/100\n",
      "3/3 [==============================] - 0s 19ms/step - loss: 3.6495 - accuracy: 0.3108 - val_loss: 1.4415 - val_accuracy: 0.6316\n",
      "\n",
      "Epoch 00081: val_loss did not improve from 1.18098\n",
      "Epoch 82/100\n",
      "3/3 [==============================] - 0s 17ms/step - loss: 3.0965 - accuracy: 0.3378 - val_loss: 1.4504 - val_accuracy: 0.6316\n",
      "\n",
      "Epoch 00082: val_loss did not improve from 1.18098\n",
      "Epoch 83/100\n",
      "3/3 [==============================] - 0s 14ms/step - loss: 3.4966 - accuracy: 0.2973 - val_loss: 1.4558 - val_accuracy: 0.6316\n",
      "\n",
      "Epoch 00083: val_loss did not improve from 1.18098\n",
      "Epoch 84/100\n",
      "3/3 [==============================] - 0s 13ms/step - loss: 4.0259 - accuracy: 0.2297 - val_loss: 1.4622 - val_accuracy: 0.5789\n",
      "\n",
      "Epoch 00084: val_loss did not improve from 1.18098\n",
      "Epoch 85/100\n",
      "3/3 [==============================] - 0s 14ms/step - loss: 4.9786 - accuracy: 0.2703 - val_loss: 1.4669 - val_accuracy: 0.5789\n",
      "\n",
      "Epoch 00085: val_loss did not improve from 1.18098\n",
      "Epoch 86/100\n",
      "3/3 [==============================] - 0s 14ms/step - loss: 3.2884 - accuracy: 0.2568 - val_loss: 1.4712 - val_accuracy: 0.5789\n",
      "\n",
      "Epoch 00086: val_loss did not improve from 1.18098\n",
      "Epoch 87/100\n",
      "3/3 [==============================] - 0s 13ms/step - loss: 3.6589 - accuracy: 0.3243 - val_loss: 1.4820 - val_accuracy: 0.5789\n",
      "\n",
      "Epoch 00087: val_loss did not improve from 1.18098\n",
      "Epoch 88/100\n",
      "3/3 [==============================] - 0s 13ms/step - loss: 3.0155 - accuracy: 0.3108 - val_loss: 1.4917 - val_accuracy: 0.5263\n",
      "\n",
      "Epoch 00088: val_loss did not improve from 1.18098\n",
      "Epoch 89/100\n",
      "3/3 [==============================] - 0s 14ms/step - loss: 3.0865 - accuracy: 0.2297 - val_loss: 1.4984 - val_accuracy: 0.5789\n",
      "\n",
      "Epoch 00089: val_loss did not improve from 1.18098\n",
      "Epoch 90/100\n",
      "3/3 [==============================] - 0s 20ms/step - loss: 3.0173 - accuracy: 0.3243 - val_loss: 1.5050 - val_accuracy: 0.5789\n",
      "\n",
      "Epoch 00090: val_loss did not improve from 1.18098\n",
      "Epoch 91/100\n",
      "3/3 [==============================] - 0s 20ms/step - loss: 2.9503 - accuracy: 0.3649 - val_loss: 1.5143 - val_accuracy: 0.5789\n",
      "\n",
      "Epoch 00091: val_loss did not improve from 1.18098\n",
      "Epoch 92/100\n",
      "3/3 [==============================] - 0s 20ms/step - loss: 3.1367 - accuracy: 0.2838 - val_loss: 1.5196 - val_accuracy: 0.5789\n",
      "\n",
      "Epoch 00092: val_loss did not improve from 1.18098\n",
      "Epoch 93/100\n",
      "3/3 [==============================] - 0s 13ms/step - loss: 2.7211 - accuracy: 0.4189 - val_loss: 1.5243 - val_accuracy: 0.5789\n",
      "\n",
      "Epoch 00093: val_loss did not improve from 1.18098\n",
      "Epoch 94/100\n",
      "3/3 [==============================] - 0s 15ms/step - loss: 2.6429 - accuracy: 0.2973 - val_loss: 1.5334 - val_accuracy: 0.5789\n",
      "\n",
      "Epoch 00094: val_loss did not improve from 1.18098\n",
      "Epoch 95/100\n",
      "3/3 [==============================] - 0s 13ms/step - loss: 2.6416 - accuracy: 0.3784 - val_loss: 1.5432 - val_accuracy: 0.5789\n",
      "\n",
      "Epoch 00095: val_loss did not improve from 1.18098\n",
      "Epoch 96/100\n",
      "3/3 [==============================] - 0s 12ms/step - loss: 3.0205 - accuracy: 0.2297 - val_loss: 1.5563 - val_accuracy: 0.5789\n",
      "\n",
      "Epoch 00096: val_loss did not improve from 1.18098\n",
      "Epoch 97/100\n",
      "3/3 [==============================] - 0s 13ms/step - loss: 3.1067 - accuracy: 0.3514 - val_loss: 1.5680 - val_accuracy: 0.5789\n",
      "\n",
      "Epoch 00097: val_loss did not improve from 1.18098\n",
      "Epoch 98/100\n",
      "3/3 [==============================] - 0s 13ms/step - loss: 2.8219 - accuracy: 0.3784 - val_loss: 1.5757 - val_accuracy: 0.5789\n",
      "\n",
      "Epoch 00098: val_loss did not improve from 1.18098\n",
      "Epoch 99/100\n",
      "3/3 [==============================] - 0s 14ms/step - loss: 3.1660 - accuracy: 0.3649 - val_loss: 1.5772 - val_accuracy: 0.5789\n",
      "\n",
      "Epoch 00099: val_loss did not improve from 1.18098\n",
      "Epoch 100/100\n",
      "3/3 [==============================] - 0s 18ms/step - loss: 2.9717 - accuracy: 0.2973 - val_loss: 1.5860 - val_accuracy: 0.5789\n",
      "\n",
      "Epoch 00100: val_loss did not improve from 1.18098\n"
     ]
    },
    {
     "data": {
      "text/plain": [
       "<keras.callbacks.History at 0x17f2411c460>"
      ]
     },
     "execution_count": 359,
     "metadata": {},
     "output_type": "execute_result"
    }
   ],
   "source": [
    "from tensorflow.keras.callbacks import ModelCheckpoint\n",
    "checkpointer = ModelCheckpoint('saved-models/audio-classification', verbose=1, save_best_only=True)\n",
    "\n",
    "model.fit(X_train,Y_train,batch_size=32,epochs=100,validation_data=(X_test,Y_Test),callbacks=[checkpointer])"
   ]
  },
  {
   "cell_type": "code",
   "execution_count": 360,
   "metadata": {},
   "outputs": [],
   "source": [
    "test_accuracy=model.evaluate(X_test,Y_Test,verbose=0)"
   ]
  },
  {
   "cell_type": "code",
   "execution_count": 361,
   "metadata": {},
   "outputs": [
    {
     "name": "stdout",
     "output_type": "stream",
     "text": [
      "0.5789473652839661\n"
     ]
    }
   ],
   "source": [
    "print(test_accuracy[1])"
   ]
  },
  {
   "cell_type": "code",
   "execution_count": 366,
   "metadata": {},
   "outputs": [],
   "source": [
    "filename=\"Audio/Dog Bark/DogBark5.wav\"\n",
    "prediction_feature=extract_features(filename)\n",
    "prediction_feature=prediction_feature.reshape(1,-1)\n",
    "predict_x=model.predict(prediction_feature)\n",
    "classes_x=np.argmax(predict_x,axis=1)\n",
    "predicted_class=labelEncoder.inverse_transform(classes_x)"
   ]
  },
  {
   "cell_type": "code",
   "execution_count": 367,
   "metadata": {},
   "outputs": [
    {
     "data": {
      "text/plain": [
       "array(['Dog-Bark'], dtype='<U16')"
      ]
     },
     "execution_count": 367,
     "metadata": {},
     "output_type": "execute_result"
    }
   ],
   "source": [
    "predicted_class"
   ]
  },
  {
   "cell_type": "code",
   "execution_count": 368,
   "metadata": {},
   "outputs": [
    {
     "name": "stdout",
     "output_type": "stream",
     "text": [
      "4\n",
      "9\n",
      "10\n",
      "15\n",
      "18\n",
      "24\n",
      "32\n",
      "35\n",
      "45\n",
      "47\n",
      "53\n",
      "57\n",
      "58\n",
      "61\n",
      "63\n",
      "68\n",
      "70\n",
      "79\n",
      "80\n"
     ]
    }
   ],
   "source": [
    "iterate=2\n",
    "for value in x:\n",
    "    for value2 in X_test:\n",
    "        if np.array_equal(value,value2):\n",
    "           print(iterate)\n",
    "    iterate+=1           "
   ]
  },
  {
   "cell_type": "code",
   "execution_count": 369,
   "metadata": {},
   "outputs": [],
   "source": [
    "spectogram_path='Audio/Spectrogram'"
   ]
  },
  {
   "cell_type": "code",
   "execution_count": 409,
   "metadata": {},
   "outputs": [],
   "source": [
    "from random import randrange\n",
    "    \n",
    "numberofrows=len(csv_data.axes[0])\n",
    "test_split=0.2\n",
    "test_split_count=0    \n",
    "classlist={}\n",
    "class_count=0\n",
    "def create_spectrogram(filename,name,classname):\n",
    "    global test_split_count\n",
    "    plt.interactive(False)\n",
    "    clip, sample_rate = librosa.load(filename, sr=None)\n",
    "    fig = plt.figure(figsize=[0.72,0.72])\n",
    "    ax = fig.add_subplot(111)\n",
    "    ax.axes.get_xaxis().set_visible(False)\n",
    "    ax.axes.get_yaxis().set_visible(False)\n",
    "    ax.set_frame_on(False)\n",
    "    S = librosa.feature.melspectrogram(y=clip, sr=sample_rate)\n",
    "    librosa.display.specshow(librosa.power_to_db(S, ref=np.max))\n",
    "    random=0\n",
    "    test_path=spectogram_path+'/Test Data/'+ class_name\n",
    "    train_path=spectogram_path+'/Train Data/'+ class_name\n",
    "    temp_path=''\n",
    "   \n",
    "    if((test_split_count/numberofrows)*100<20):\n",
    "        random=randrange(2)\n",
    "        i=1\n",
    "        if(classname == \"predict\"):\n",
    "            random=1\n",
    "        if(classlist.get(classname)==None):            \n",
    "            classlist[classname]=i\n",
    "        else :\n",
    "            i=int(classlist[classname])\n",
    "            i+=1\n",
    "            classlist[classname]=i\n",
    "        if(i>4):\n",
    "            random=0\n",
    "       \n",
    "    if(random):\n",
    "        test_split_count +=1\n",
    "        temp_path=test_path   \n",
    "        print(random,temp_path)\n",
    "    else:\n",
    "         temp_path=train_path\n",
    "            \n",
    "    if not os.path.exists(temp_path):\n",
    "           os.mkdir(temp_path)\n",
    "    filename  = temp_path+'/'+name + '.jpg'\n",
    "    plt.savefig(filename, dpi=400, bbox_inches='tight',pad_inches=0)\n",
    "    plt.close()    \n",
    "    fig.clf()\n",
    "    plt.close(fig)\n",
    "    plt.close('all')\n",
    "    del name,clip,sample_rate,fig,ax,S\n",
    "    return filename"
   ]
  },
  {
   "cell_type": "code",
   "execution_count": 371,
   "metadata": {},
   "outputs": [
    {
     "name": "stderr",
     "output_type": "stream",
     "text": [
      "3it [00:00,  9.10it/s]"
     ]
    },
    {
     "name": "stdout",
     "output_type": "stream",
     "text": [
      "1 Audio/Spectrogram/Test Data/bird-chirp\n",
      "1 Audio/Spectrogram/Test Data/bird-chirp\n"
     ]
    },
    {
     "name": "stderr",
     "output_type": "stream",
     "text": [
      "11it [00:06,  3.31it/s]"
     ]
    },
    {
     "name": "stdout",
     "output_type": "stream",
     "text": [
      "1 Audio/Spectrogram/Test Data/Children Playing\n",
      "1 Audio/Spectrogram/Test Data/Children Playing\n"
     ]
    },
    {
     "name": "stderr",
     "output_type": "stream",
     "text": [
      "34it [00:28,  5.32it/s]"
     ]
    },
    {
     "name": "stdout",
     "output_type": "stream",
     "text": [
      "1 Audio/Spectrogram/Test Data/Car-Horn\n"
     ]
    },
    {
     "name": "stderr",
     "output_type": "stream",
     "text": [
      "51it [00:31,  8.81it/s]"
     ]
    },
    {
     "name": "stdout",
     "output_type": "stream",
     "text": [
      "1 Audio/Spectrogram/Test Data/Dog-Bark\n",
      "1 Audio/Spectrogram/Test Data/Dog-Bark\n"
     ]
    },
    {
     "name": "stderr",
     "output_type": "stream",
     "text": [
      "72it [00:38,  2.16it/s]"
     ]
    },
    {
     "name": "stdout",
     "output_type": "stream",
     "text": [
      "1 Audio/Spectrogram/Test Data/Thunder\n"
     ]
    },
    {
     "name": "stderr",
     "output_type": "stream",
     "text": [
      "73it [00:39,  2.01it/s]"
     ]
    },
    {
     "name": "stdout",
     "output_type": "stream",
     "text": [
      "1 Audio/Spectrogram/Test Data/Thunder\n"
     ]
    },
    {
     "name": "stderr",
     "output_type": "stream",
     "text": [
      "83it [00:44,  2.00it/s]C:\\ProgramData\\Anaconda3\\lib\\site-packages\\librosa\\filters.py:238: UserWarning: Empty filters detected in mel frequency basis. Some channels will produce empty responses. Try increasing your sampling rate (and fmax) or reducing n_mels.\n",
      "  warnings.warn(\n"
     ]
    },
    {
     "name": "stdout",
     "output_type": "stream",
     "text": [
      "1 Audio/Spectrogram/Test Data/Cricket-Chirp\n"
     ]
    },
    {
     "name": "stderr",
     "output_type": "stream",
     "text": [
      "93it [01:01,  1.50it/s]\n"
     ]
    }
   ],
   "source": [
    "    import shutil\n",
    "    if os.path.exists(spectogram_path+'/Test Data'):\n",
    "        shutil.rmtree(spectogram_path+'/Test Data')\n",
    "    if os.path.exists(spectogram_path+'/Train Data'):\n",
    "        shutil.rmtree(spectogram_path+'/Train Data')\n",
    "    os.mkdir(spectogram_path+'/Test Data')\n",
    "    os.mkdir(spectogram_path+'/Train Data')\n",
    "    extracted_features=[]\n",
    "    for index_num,row in tqdm(csv_data.iterrows()):\n",
    "        filename=os.path.join(os.path.abspath(audio_dataset_path),str(row[\"folder\"]),str(row[\"filename\"]))\n",
    "        class_name=row[\"class\"]\n",
    "        create_spectrogram(filename,str(row[\"filename\"]),class_name)\n",
    "     "
   ]
  },
  {
   "cell_type": "code",
   "execution_count": 372,
   "metadata": {},
   "outputs": [],
   "source": [
    "train=ImageDataGenerator(rescale=1/255)\n",
    "validation=ImageDataGenerator(rescale=1/255)"
   ]
  },
  {
   "cell_type": "code",
   "execution_count": 373,
   "metadata": {},
   "outputs": [
    {
     "name": "stdout",
     "output_type": "stream",
     "text": [
      "Found 83 images belonging to 6 classes.\n",
      "Found 10 images belonging to 6 classes.\n"
     ]
    }
   ],
   "source": [
    "train_dataset=train.flow_from_directory(spectogram_path+'/Train Data' ,target_size=(200,200),batch_size=3,class_mode='binary')\n",
    "\n",
    "validation_dataset=train.flow_from_directory(spectogram_path+'/Test Data',target_size=(200,200),batch_size=3,class_mode='binary')"
   ]
  },
  {
   "cell_type": "code",
   "execution_count": 374,
   "metadata": {},
   "outputs": [],
   "source": [
    "from keras import models\n",
    "from keras import layers\n",
    "from keras import optimizers\n",
    "from keras.layers import Dense, Activation, Flatten, Dropout, BatchNormalization\n",
    "from keras.models import Sequential, Model\n",
    "from keras.layers import Conv2D, MaxPooling2D\n",
    "from keras import regularizers, optimizers\n",
    "from keras.layers import Dense, Activation, Flatten, Dropout, BatchNormalization\n",
    "from keras.models import Sequential, Model\n",
    "from keras.layers import Conv2D, MaxPooling2D\n",
    "from keras import regularizers, optimizers"
   ]
  },
  {
   "cell_type": "code",
   "execution_count": 375,
   "metadata": {},
   "outputs": [
    {
     "name": "stdout",
     "output_type": "stream",
     "text": [
      "Model: \"sequential_25\"\n",
      "_________________________________________________________________\n",
      "Layer (type)                 Output Shape              Param #   \n",
      "=================================================================\n",
      "conv2d_108 (Conv2D)          (None, 200, 200, 32)      896       \n",
      "_________________________________________________________________\n",
      "activation_154 (Activation)  (None, 200, 200, 32)      0         \n",
      "_________________________________________________________________\n",
      "conv2d_109 (Conv2D)          (None, 198, 198, 64)      18496     \n",
      "_________________________________________________________________\n",
      "activation_155 (Activation)  (None, 198, 198, 64)      0         \n",
      "_________________________________________________________________\n",
      "max_pooling2d_54 (MaxPooling (None, 99, 99, 64)        0         \n",
      "_________________________________________________________________\n",
      "dropout_93 (Dropout)         (None, 99, 99, 64)        0         \n",
      "_________________________________________________________________\n",
      "conv2d_110 (Conv2D)          (None, 99, 99, 64)        36928     \n",
      "_________________________________________________________________\n",
      "activation_156 (Activation)  (None, 99, 99, 64)        0         \n",
      "_________________________________________________________________\n",
      "conv2d_111 (Conv2D)          (None, 97, 97, 64)        36928     \n",
      "_________________________________________________________________\n",
      "activation_157 (Activation)  (None, 97, 97, 64)        0         \n",
      "_________________________________________________________________\n",
      "max_pooling2d_55 (MaxPooling (None, 48, 48, 64)        0         \n",
      "_________________________________________________________________\n",
      "dropout_94 (Dropout)         (None, 48, 48, 64)        0         \n",
      "_________________________________________________________________\n",
      "conv2d_112 (Conv2D)          (None, 48, 48, 128)       73856     \n",
      "_________________________________________________________________\n",
      "activation_158 (Activation)  (None, 48, 48, 128)       0         \n",
      "_________________________________________________________________\n",
      "conv2d_113 (Conv2D)          (None, 46, 46, 128)       147584    \n",
      "_________________________________________________________________\n",
      "activation_159 (Activation)  (None, 46, 46, 128)       0         \n",
      "_________________________________________________________________\n",
      "max_pooling2d_56 (MaxPooling (None, 23, 23, 128)       0         \n",
      "_________________________________________________________________\n",
      "dropout_95 (Dropout)         (None, 23, 23, 128)       0         \n",
      "_________________________________________________________________\n",
      "flatten_18 (Flatten)         (None, 67712)             0         \n",
      "_________________________________________________________________\n",
      "dense_64 (Dense)             (None, 512)               34669056  \n",
      "_________________________________________________________________\n",
      "activation_160 (Activation)  (None, 512)               0         \n",
      "_________________________________________________________________\n",
      "dropout_96 (Dropout)         (None, 512)               0         \n",
      "_________________________________________________________________\n",
      "dense_65 (Dense)             (None, 10)                5130      \n",
      "=================================================================\n",
      "Total params: 34,988,874\n",
      "Trainable params: 34,988,874\n",
      "Non-trainable params: 0\n",
      "_________________________________________________________________\n"
     ]
    }
   ],
   "source": [
    "model = models.Sequential()\n",
    "model.add(Conv2D(32, (3, 3), padding='same',\n",
    "                 input_shape=(200,200,3)))\n",
    "model.add(Activation('relu'))\n",
    "model.add(Conv2D(64, (3, 3)))\n",
    "model.add(Activation('relu'))\n",
    "model.add(MaxPooling2D(pool_size=(2, 2)))\n",
    "model.add(Dropout(0.25))\n",
    "model.add(Conv2D(64, (3, 3), padding='same'))\n",
    "model.add(Activation('relu'))\n",
    "model.add(Conv2D(64, (3, 3)))\n",
    "model.add(Activation('relu'))\n",
    "model.add(MaxPooling2D(pool_size=(2, 2)))\n",
    "model.add(Dropout(0.5))\n",
    "model.add(Conv2D(128, (3, 3), padding='same'))\n",
    "model.add(Activation('relu'))\n",
    "model.add(Conv2D(128, (3, 3)))\n",
    "model.add(Activation('relu'))\n",
    "model.add(MaxPooling2D(pool_size=(2, 2)))\n",
    "model.add(Dropout(0.5))\n",
    "model.add(Flatten())\n",
    "model.add(Dense(512))\n",
    "model.add(Activation('relu'))\n",
    "model.add(Dropout(0.5))\n",
    "model.add(Dense(10, activation='softmax'))\n",
    "model.summary()"
   ]
  },
  {
   "cell_type": "code",
   "execution_count": 376,
   "metadata": {},
   "outputs": [],
   "source": [
    "import tensorflow as tf\n",
    "optimizer =tf.keras.optimizers.RMSprop(learning_rate=0.0003, decay=1e-6)\n",
    "model.compile(optimizer,loss=\"sparse_categorical_crossentropy\",metrics=[\"accuracy\"])"
   ]
  },
  {
   "cell_type": "code",
   "execution_count": 377,
   "metadata": {},
   "outputs": [],
   "source": [
    "checkpoint = ModelCheckpoint('saved-models/audio-classification-cnn', monitor='val_acc', verbose=1, save_best_only=True, mode='max')\n",
    "callbacks_list = [checkpoint]"
   ]
  },
  {
   "cell_type": "code",
   "execution_count": 378,
   "metadata": {},
   "outputs": [
    {
     "name": "stdout",
     "output_type": "stream",
     "text": [
      "Epoch 1/100\n",
      "5/5 [==============================] - 6s 998ms/step - loss: 2.3403 - accuracy: 0.2667 - val_loss: 2.1458 - val_accuracy: 0.2000\n",
      "Epoch 2/100\n",
      "5/5 [==============================] - 4s 906ms/step - loss: 2.2639 - accuracy: 0.2000 - val_loss: 2.1716 - val_accuracy: 0.2000\n",
      "Epoch 3/100\n",
      "5/5 [==============================] - 4s 913ms/step - loss: 2.0463 - accuracy: 0.3571 - val_loss: 2.2740 - val_accuracy: 0.1000\n",
      "Epoch 4/100\n",
      "5/5 [==============================] - 5s 945ms/step - loss: 1.9484 - accuracy: 0.2667 - val_loss: 2.1964 - val_accuracy: 0.1000\n",
      "Epoch 5/100\n",
      "5/5 [==============================] - 5s 1s/step - loss: 1.9505 - accuracy: 0.2143 - val_loss: 2.1905 - val_accuracy: 0.1000\n",
      "Epoch 6/100\n",
      "5/5 [==============================] - 5s 1s/step - loss: 1.9530 - accuracy: 0.2143 - val_loss: 2.1962 - val_accuracy: 0.1000\n",
      "Epoch 7/100\n",
      "5/5 [==============================] - 5s 1s/step - loss: 1.8989 - accuracy: 0.2143 - val_loss: 2.1348 - val_accuracy: 0.3000\n",
      "Epoch 8/100\n",
      "5/5 [==============================] - 5s 1s/step - loss: 1.8011 - accuracy: 0.2667 - val_loss: 2.0616 - val_accuracy: 0.3000\n",
      "Epoch 9/100\n",
      "5/5 [==============================] - 5s 933ms/step - loss: 2.1365 - accuracy: 0.6000 - val_loss: 2.0176 - val_accuracy: 0.2000\n",
      "Epoch 10/100\n",
      "5/5 [==============================] - 5s 989ms/step - loss: 1.7921 - accuracy: 0.4286 - val_loss: 2.0570 - val_accuracy: 0.3000\n",
      "Epoch 11/100\n",
      "5/5 [==============================] - 5s 998ms/step - loss: 1.5864 - accuracy: 0.2143 - val_loss: 1.8385 - val_accuracy: 0.4000\n",
      "Epoch 12/100\n",
      "5/5 [==============================] - 5s 937ms/step - loss: 1.6935 - accuracy: 0.4000 - val_loss: 1.8530 - val_accuracy: 0.4000\n",
      "Epoch 13/100\n",
      "5/5 [==============================] - 5s 955ms/step - loss: 1.4864 - accuracy: 0.3333 - val_loss: 1.8919 - val_accuracy: 0.3000\n",
      "Epoch 14/100\n",
      "5/5 [==============================] - 5s 969ms/step - loss: 1.9843 - accuracy: 0.2667 - val_loss: 2.1246 - val_accuracy: 0.4000\n",
      "Epoch 15/100\n",
      "5/5 [==============================] - 5s 940ms/step - loss: 1.3224 - accuracy: 0.6667 - val_loss: 1.6910 - val_accuracy: 0.2000\n",
      "Epoch 16/100\n",
      "5/5 [==============================] - 5s 974ms/step - loss: 1.5686 - accuracy: 0.4000 - val_loss: 1.8280 - val_accuracy: 0.3000\n",
      "Epoch 17/100\n",
      "5/5 [==============================] - 5s 978ms/step - loss: 1.5496 - accuracy: 0.4000 - val_loss: 1.8519 - val_accuracy: 0.5000\n",
      "Epoch 18/100\n",
      "5/5 [==============================] - 5s 930ms/step - loss: 1.1532 - accuracy: 0.5333 - val_loss: 1.6822 - val_accuracy: 0.3000\n",
      "Epoch 19/100\n",
      "5/5 [==============================] - 5s 927ms/step - loss: 2.0498 - accuracy: 0.1333 - val_loss: 1.8966 - val_accuracy: 0.3000\n",
      "Epoch 20/100\n",
      "5/5 [==============================] - 5s 958ms/step - loss: 1.6413 - accuracy: 0.3333 - val_loss: 1.9360 - val_accuracy: 0.5000\n",
      "Epoch 21/100\n",
      "5/5 [==============================] - 4s 919ms/step - loss: 1.4369 - accuracy: 0.4667 - val_loss: 1.7753 - val_accuracy: 0.4000\n",
      "Epoch 22/100\n",
      "5/5 [==============================] - 5s 925ms/step - loss: 1.2685 - accuracy: 0.4000 - val_loss: 1.7807 - val_accuracy: 0.6000\n",
      "Epoch 23/100\n",
      "5/5 [==============================] - 5s 926ms/step - loss: 1.2884 - accuracy: 0.5333 - val_loss: 1.5316 - val_accuracy: 0.3000\n",
      "Epoch 24/100\n",
      "5/5 [==============================] - 5s 934ms/step - loss: 1.5817 - accuracy: 0.4667 - val_loss: 1.4668 - val_accuracy: 0.6000\n",
      "Epoch 25/100\n",
      "5/5 [==============================] - 4s 904ms/step - loss: 1.2307 - accuracy: 0.6667 - val_loss: 1.2706 - val_accuracy: 0.6000\n",
      "Epoch 26/100\n",
      "5/5 [==============================] - 4s 883ms/step - loss: 1.4179 - accuracy: 0.4667 - val_loss: 1.4764 - val_accuracy: 0.6000\n",
      "Epoch 27/100\n",
      "5/5 [==============================] - 4s 882ms/step - loss: 1.1021 - accuracy: 0.5333 - val_loss: 1.3540 - val_accuracy: 0.8000\n",
      "Epoch 28/100\n",
      "5/5 [==============================] - 4s 892ms/step - loss: 1.4098 - accuracy: 0.5333 - val_loss: 1.4219 - val_accuracy: 0.7000\n",
      "Epoch 29/100\n",
      "5/5 [==============================] - 4s 863ms/step - loss: 1.2789 - accuracy: 0.6000 - val_loss: 1.3397 - val_accuracy: 0.7000\n",
      "Epoch 30/100\n",
      "5/5 [==============================] - 4s 893ms/step - loss: 1.6700 - accuracy: 0.5000 - val_loss: 1.2906 - val_accuracy: 0.8000\n",
      "Epoch 31/100\n",
      "5/5 [==============================] - 5s 965ms/step - loss: 1.2745 - accuracy: 0.6667 - val_loss: 1.3183 - val_accuracy: 0.6000\n",
      "Epoch 32/100\n",
      "5/5 [==============================] - 5s 943ms/step - loss: 0.6229 - accuracy: 0.8000 - val_loss: 1.2615 - val_accuracy: 0.5000\n",
      "Epoch 33/100\n",
      "5/5 [==============================] - 4s 868ms/step - loss: 1.7871 - accuracy: 0.4000 - val_loss: 1.4322 - val_accuracy: 0.6000\n",
      "Epoch 34/100\n",
      "5/5 [==============================] - 4s 877ms/step - loss: 0.8909 - accuracy: 0.7333 - val_loss: 1.1756 - val_accuracy: 0.8000\n",
      "Epoch 35/100\n",
      "5/5 [==============================] - 4s 902ms/step - loss: 0.7032 - accuracy: 0.8000 - val_loss: 1.0733 - val_accuracy: 0.8000\n",
      "Epoch 36/100\n",
      "5/5 [==============================] - 4s 856ms/step - loss: 1.1094 - accuracy: 0.6667 - val_loss: 1.1680 - val_accuracy: 0.7000\n",
      "Epoch 37/100\n",
      "5/5 [==============================] - 4s 866ms/step - loss: 0.6862 - accuracy: 0.6667 - val_loss: 1.0580 - val_accuracy: 0.7000\n",
      "Epoch 38/100\n",
      "5/5 [==============================] - 4s 892ms/step - loss: 0.8967 - accuracy: 0.6667 - val_loss: 1.0636 - val_accuracy: 0.7000\n",
      "Epoch 39/100\n",
      "5/5 [==============================] - 4s 884ms/step - loss: 0.6205 - accuracy: 0.7333 - val_loss: 1.3118 - val_accuracy: 0.6000\n",
      "Epoch 40/100\n",
      "5/5 [==============================] - 4s 883ms/step - loss: 1.0682 - accuracy: 0.6000 - val_loss: 1.1623 - val_accuracy: 0.6000\n",
      "Epoch 41/100\n",
      "5/5 [==============================] - 4s 873ms/step - loss: 0.9572 - accuracy: 0.6000 - val_loss: 1.2630 - val_accuracy: 0.6000\n",
      "Epoch 42/100\n",
      "5/5 [==============================] - 4s 895ms/step - loss: 0.9004 - accuracy: 0.6667 - val_loss: 1.1711 - val_accuracy: 0.6000\n",
      "Epoch 43/100\n",
      "5/5 [==============================] - 4s 886ms/step - loss: 0.9975 - accuracy: 0.7333 - val_loss: 1.2094 - val_accuracy: 0.6000\n",
      "Epoch 44/100\n",
      "5/5 [==============================] - 4s 869ms/step - loss: 1.0156 - accuracy: 0.6667 - val_loss: 1.3031 - val_accuracy: 0.6000\n",
      "Epoch 45/100\n",
      "5/5 [==============================] - 4s 883ms/step - loss: 0.5656 - accuracy: 0.7333 - val_loss: 1.2175 - val_accuracy: 0.6000\n",
      "Epoch 46/100\n",
      "5/5 [==============================] - 4s 923ms/step - loss: 0.4603 - accuracy: 0.8667 - val_loss: 1.2597 - val_accuracy: 0.6000\n",
      "Epoch 47/100\n",
      "5/5 [==============================] - 4s 880ms/step - loss: 0.3392 - accuracy: 0.8667 - val_loss: 1.3515 - val_accuracy: 0.6000\n",
      "Epoch 48/100\n",
      "5/5 [==============================] - 4s 872ms/step - loss: 0.8614 - accuracy: 0.8000 - val_loss: 1.3977 - val_accuracy: 0.6000\n",
      "Epoch 49/100\n",
      "5/5 [==============================] - 4s 877ms/step - loss: 0.4758 - accuracy: 0.7333 - val_loss: 1.1597 - val_accuracy: 0.6000\n",
      "Epoch 50/100\n",
      "5/5 [==============================] - 4s 893ms/step - loss: 0.3886 - accuracy: 0.9333 - val_loss: 1.2699 - val_accuracy: 0.6000\n",
      "Epoch 51/100\n",
      "5/5 [==============================] - 4s 870ms/step - loss: 0.4553 - accuracy: 0.7333 - val_loss: 1.7308 - val_accuracy: 0.4000\n",
      "Epoch 52/100\n",
      "5/5 [==============================] - 4s 885ms/step - loss: 1.0407 - accuracy: 0.8667 - val_loss: 1.2874 - val_accuracy: 0.6000\n",
      "Epoch 53/100\n",
      "5/5 [==============================] - 5s 971ms/step - loss: 0.3365 - accuracy: 0.9333 - val_loss: 1.2392 - val_accuracy: 0.6000\n",
      "Epoch 54/100\n",
      "5/5 [==============================] - 4s 894ms/step - loss: 0.3246 - accuracy: 0.9286 - val_loss: 1.4583 - val_accuracy: 0.6000\n",
      "Epoch 55/100\n",
      "5/5 [==============================] - 4s 892ms/step - loss: 0.6657 - accuracy: 0.8000 - val_loss: 1.5592 - val_accuracy: 0.6000\n",
      "Epoch 56/100\n",
      "5/5 [==============================] - 4s 890ms/step - loss: 0.2669 - accuracy: 0.8667 - val_loss: 1.9913 - val_accuracy: 0.5000\n",
      "Epoch 57/100\n",
      "5/5 [==============================] - 5s 966ms/step - loss: 0.4421 - accuracy: 0.8667 - val_loss: 1.6032 - val_accuracy: 0.7000\n",
      "Epoch 58/100\n",
      "5/5 [==============================] - 4s 916ms/step - loss: 0.6494 - accuracy: 0.7857 - val_loss: 1.8761 - val_accuracy: 0.6000\n",
      "Epoch 59/100\n",
      "5/5 [==============================] - 4s 879ms/step - loss: 0.2708 - accuracy: 0.8667 - val_loss: 1.7355 - val_accuracy: 0.6000\n",
      "Epoch 60/100\n",
      "5/5 [==============================] - 4s 904ms/step - loss: 0.2185 - accuracy: 0.9333 - val_loss: 1.9487 - val_accuracy: 0.6000\n",
      "Epoch 61/100\n",
      "5/5 [==============================] - 5s 920ms/step - loss: 0.1260 - accuracy: 1.0000 - val_loss: 2.3897 - val_accuracy: 0.6000\n",
      "Epoch 62/100\n",
      "5/5 [==============================] - 4s 884ms/step - loss: 0.2190 - accuracy: 0.9333 - val_loss: 2.6522 - val_accuracy: 0.4000\n",
      "Epoch 63/100\n",
      "5/5 [==============================] - 4s 902ms/step - loss: 0.1974 - accuracy: 0.9286 - val_loss: 2.3232 - val_accuracy: 0.6000\n",
      "Epoch 64/100\n",
      "5/5 [==============================] - 5s 933ms/step - loss: 1.1613 - accuracy: 0.7333 - val_loss: 1.4996 - val_accuracy: 0.6000\n",
      "Epoch 65/100\n",
      "5/5 [==============================] - 4s 892ms/step - loss: 0.2474 - accuracy: 0.9333 - val_loss: 1.4868 - val_accuracy: 0.6000\n",
      "Epoch 66/100\n",
      "5/5 [==============================] - 5s 993ms/step - loss: 0.1710 - accuracy: 0.9333 - val_loss: 1.9855 - val_accuracy: 0.5000\n",
      "Epoch 67/100\n",
      "5/5 [==============================] - 5s 995ms/step - loss: 0.0155 - accuracy: 1.0000 - val_loss: 1.9338 - val_accuracy: 0.6000\n",
      "Epoch 68/100\n",
      "5/5 [==============================] - 5s 914ms/step - loss: 0.3349 - accuracy: 0.8667 - val_loss: 2.0881 - val_accuracy: 0.6000\n",
      "Epoch 69/100\n",
      "5/5 [==============================] - 5s 947ms/step - loss: 0.4124 - accuracy: 0.8571 - val_loss: 1.9204 - val_accuracy: 0.6000\n",
      "Epoch 70/100\n",
      "5/5 [==============================] - 5s 930ms/step - loss: 0.3840 - accuracy: 0.8667 - val_loss: 2.0422 - val_accuracy: 0.6000\n",
      "Epoch 71/100\n",
      "5/5 [==============================] - 4s 923ms/step - loss: 0.0129 - accuracy: 1.0000 - val_loss: 2.0316 - val_accuracy: 0.6000\n",
      "Epoch 72/100\n",
      "5/5 [==============================] - 4s 892ms/step - loss: 0.0454 - accuracy: 1.0000 - val_loss: 2.3293 - val_accuracy: 0.6000\n",
      "Epoch 73/100\n",
      "5/5 [==============================] - 4s 882ms/step - loss: 0.0111 - accuracy: 1.0000 - val_loss: 2.4816 - val_accuracy: 0.6000\n",
      "Epoch 74/100\n",
      "5/5 [==============================] - 4s 892ms/step - loss: 0.1369 - accuracy: 0.9333 - val_loss: 3.1679 - val_accuracy: 0.6000\n",
      "Epoch 75/100\n",
      "5/5 [==============================] - 5s 909ms/step - loss: 0.5548 - accuracy: 0.8667 - val_loss: 2.0475 - val_accuracy: 0.6000\n",
      "Epoch 76/100\n",
      "5/5 [==============================] - 4s 880ms/step - loss: 0.2151 - accuracy: 0.9333 - val_loss: 1.8407 - val_accuracy: 0.7000\n",
      "Epoch 77/100\n",
      "5/5 [==============================] - 4s 877ms/step - loss: 0.1062 - accuracy: 1.0000 - val_loss: 2.1793 - val_accuracy: 0.6000\n",
      "Epoch 78/100\n",
      "5/5 [==============================] - 5s 946ms/step - loss: 0.0807 - accuracy: 0.9333 - val_loss: 3.1171 - val_accuracy: 0.6000\n",
      "Epoch 79/100\n",
      "5/5 [==============================] - 4s 889ms/step - loss: 0.1080 - accuracy: 0.9333 - val_loss: 2.1588 - val_accuracy: 0.6000\n",
      "Epoch 80/100\n",
      "5/5 [==============================] - 4s 878ms/step - loss: 0.0331 - accuracy: 1.0000 - val_loss: 2.6758 - val_accuracy: 0.7000\n",
      "Epoch 81/100\n",
      "5/5 [==============================] - 4s 872ms/step - loss: 0.0105 - accuracy: 1.0000 - val_loss: 2.6295 - val_accuracy: 0.6000\n",
      "Epoch 82/100\n",
      "5/5 [==============================] - 4s 906ms/step - loss: 0.0811 - accuracy: 0.9286 - val_loss: 3.1821 - val_accuracy: 0.6000\n",
      "Epoch 83/100\n",
      "5/5 [==============================] - 4s 867ms/step - loss: 0.0427 - accuracy: 1.0000 - val_loss: 3.4805 - val_accuracy: 0.6000\n",
      "Epoch 84/100\n",
      "5/5 [==============================] - 4s 873ms/step - loss: 0.3093 - accuracy: 0.8000 - val_loss: 5.4385 - val_accuracy: 0.5000\n",
      "Epoch 85/100\n",
      "5/5 [==============================] - 4s 878ms/step - loss: 0.0019 - accuracy: 1.0000 - val_loss: 5.5567 - val_accuracy: 0.5000\n",
      "Epoch 86/100\n",
      "5/5 [==============================] - 5s 938ms/step - loss: 0.0235 - accuracy: 1.0000 - val_loss: 6.2090 - val_accuracy: 0.5000\n",
      "Epoch 87/100\n",
      "5/5 [==============================] - 4s 872ms/step - loss: 0.5535 - accuracy: 0.8667 - val_loss: 3.4834 - val_accuracy: 0.6000\n",
      "Epoch 88/100\n",
      "5/5 [==============================] - 4s 875ms/step - loss: 0.1311 - accuracy: 0.9333 - val_loss: 4.0561 - val_accuracy: 0.6000\n",
      "Epoch 89/100\n",
      "5/5 [==============================] - 4s 905ms/step - loss: 0.2661 - accuracy: 0.9333 - val_loss: 2.9502 - val_accuracy: 0.6000\n",
      "Epoch 90/100\n",
      "5/5 [==============================] - 4s 886ms/step - loss: 0.0052 - accuracy: 1.0000 - val_loss: 2.9676 - val_accuracy: 0.6000\n",
      "Epoch 91/100\n",
      "5/5 [==============================] - 4s 893ms/step - loss: 1.5164 - accuracy: 0.8667 - val_loss: 1.6821 - val_accuracy: 0.7000\n",
      "Epoch 92/100\n",
      "5/5 [==============================] - 4s 868ms/step - loss: 0.4238 - accuracy: 0.8667 - val_loss: 1.7954 - val_accuracy: 0.6000\n",
      "Epoch 93/100\n",
      "5/5 [==============================] - 4s 903ms/step - loss: 0.2717 - accuracy: 0.9333 - val_loss: 2.5025 - val_accuracy: 0.6000\n",
      "Epoch 94/100\n",
      "5/5 [==============================] - 4s 867ms/step - loss: 0.1152 - accuracy: 0.9333 - val_loss: 2.1280 - val_accuracy: 0.6000\n",
      "Epoch 95/100\n",
      "5/5 [==============================] - 4s 919ms/step - loss: 0.0049 - accuracy: 1.0000 - val_loss: 2.2109 - val_accuracy: 0.6000\n",
      "Epoch 96/100\n",
      "5/5 [==============================] - 4s 865ms/step - loss: 0.0264 - accuracy: 1.0000 - val_loss: 2.5834 - val_accuracy: 0.6000\n",
      "Epoch 97/100\n",
      "5/5 [==============================] - 4s 894ms/step - loss: 0.0214 - accuracy: 1.0000 - val_loss: 2.8641 - val_accuracy: 0.6000\n",
      "Epoch 98/100\n",
      "5/5 [==============================] - 4s 870ms/step - loss: 0.0467 - accuracy: 1.0000 - val_loss: 2.6164 - val_accuracy: 0.7000\n",
      "Epoch 99/100\n",
      "5/5 [==============================] - 4s 893ms/step - loss: 0.0085 - accuracy: 1.0000 - val_loss: 2.8427 - val_accuracy: 0.7000\n",
      "Epoch 100/100\n",
      "5/5 [==============================] - 4s 887ms/step - loss: 0.0248 - accuracy: 1.0000 - val_loss: 3.9632 - val_accuracy: 0.6000\n"
     ]
    }
   ],
   "source": [
    "model_fit=model.fit(train_dataset,steps_per_epoch=5,epochs=100,validation_data=validation_dataset)"
   ]
  },
  {
   "cell_type": "code",
   "execution_count": 379,
   "metadata": {},
   "outputs": [
    {
     "name": "stdout",
     "output_type": "stream",
     "text": [
      "4/4 [==============================] - 0s 88ms/step - loss: 3.9632 - accuracy: 0.6000\n",
      "0.6000000238418579\n"
     ]
    }
   ],
   "source": [
    "test_accuracy=model.evaluate(validation_dataset)\n",
    "print(test_accuracy[1])"
   ]
  },
  {
   "cell_type": "code",
   "execution_count": 416,
   "metadata": {},
   "outputs": [
    {
     "ename": "FileNotFoundError",
     "evalue": "[WinError 3] The system cannot find the path specified: '/Train Data/Cricket-Chirp'",
     "output_type": "error",
     "traceback": [
      "\u001b[1;31m---------------------------------------------------------------------------\u001b[0m",
      "\u001b[1;31mFileNotFoundError\u001b[0m                         Traceback (most recent call last)",
      "\u001b[1;32m<ipython-input-416-d429e713ce5a>\u001b[0m in \u001b[0;36m<module>\u001b[1;34m\u001b[0m\n\u001b[0;32m      1\u001b[0m \u001b[0mfilename\u001b[0m\u001b[1;33m=\u001b[0m\u001b[1;34m\"Audio/Dog Bark/DogBark4.wav\"\u001b[0m\u001b[1;33m\u001b[0m\u001b[1;33m\u001b[0m\u001b[0m\n\u001b[1;32m----> 2\u001b[1;33m \u001b[0mspectogram_path\u001b[0m\u001b[1;33m=\u001b[0m\u001b[0mcreate_spectrogram\u001b[0m\u001b[1;33m(\u001b[0m\u001b[0mfilename\u001b[0m\u001b[1;33m,\u001b[0m\u001b[1;34m'Dogbark4'\u001b[0m\u001b[1;33m,\u001b[0m\u001b[1;34m'predict'\u001b[0m\u001b[1;33m)\u001b[0m\u001b[1;33m\u001b[0m\u001b[1;33m\u001b[0m\u001b[0m\n\u001b[0m\u001b[0;32m      3\u001b[0m \u001b[0mprint\u001b[0m\u001b[1;33m(\u001b[0m\u001b[0mspectogram_path\u001b[0m\u001b[1;33m)\u001b[0m\u001b[1;33m\u001b[0m\u001b[1;33m\u001b[0m\u001b[0m\n",
      "\u001b[1;32m<ipython-input-409-c024679f9ef4>\u001b[0m in \u001b[0;36mcreate_spectrogram\u001b[1;34m(filename, name, classname)\u001b[0m\n\u001b[0;32m     42\u001b[0m \u001b[1;33m\u001b[0m\u001b[0m\n\u001b[0;32m     43\u001b[0m     \u001b[1;32mif\u001b[0m \u001b[1;32mnot\u001b[0m \u001b[0mos\u001b[0m\u001b[1;33m.\u001b[0m\u001b[0mpath\u001b[0m\u001b[1;33m.\u001b[0m\u001b[0mexists\u001b[0m\u001b[1;33m(\u001b[0m\u001b[0mtemp_path\u001b[0m\u001b[1;33m)\u001b[0m\u001b[1;33m:\u001b[0m\u001b[1;33m\u001b[0m\u001b[1;33m\u001b[0m\u001b[0m\n\u001b[1;32m---> 44\u001b[1;33m            \u001b[0mos\u001b[0m\u001b[1;33m.\u001b[0m\u001b[0mmkdir\u001b[0m\u001b[1;33m(\u001b[0m\u001b[0mtemp_path\u001b[0m\u001b[1;33m)\u001b[0m\u001b[1;33m\u001b[0m\u001b[1;33m\u001b[0m\u001b[0m\n\u001b[0m\u001b[0;32m     45\u001b[0m     \u001b[0mfilename\u001b[0m  \u001b[1;33m=\u001b[0m \u001b[0mtemp_path\u001b[0m\u001b[1;33m+\u001b[0m\u001b[1;34m'/'\u001b[0m\u001b[1;33m+\u001b[0m\u001b[0mname\u001b[0m \u001b[1;33m+\u001b[0m \u001b[1;34m'.jpg'\u001b[0m\u001b[1;33m\u001b[0m\u001b[1;33m\u001b[0m\u001b[0m\n\u001b[0;32m     46\u001b[0m     \u001b[0mplt\u001b[0m\u001b[1;33m.\u001b[0m\u001b[0msavefig\u001b[0m\u001b[1;33m(\u001b[0m\u001b[0mfilename\u001b[0m\u001b[1;33m,\u001b[0m \u001b[0mdpi\u001b[0m\u001b[1;33m=\u001b[0m\u001b[1;36m400\u001b[0m\u001b[1;33m,\u001b[0m \u001b[0mbbox_inches\u001b[0m\u001b[1;33m=\u001b[0m\u001b[1;34m'tight'\u001b[0m\u001b[1;33m,\u001b[0m\u001b[0mpad_inches\u001b[0m\u001b[1;33m=\u001b[0m\u001b[1;36m0\u001b[0m\u001b[1;33m)\u001b[0m\u001b[1;33m\u001b[0m\u001b[1;33m\u001b[0m\u001b[0m\n",
      "\u001b[1;31mFileNotFoundError\u001b[0m: [WinError 3] The system cannot find the path specified: '/Train Data/Cricket-Chirp'"
     ]
    }
   ],
   "source": [
    "filename=\"Audio/Dog Bark/DogBark4.wav\"\n",
    "spectogram_path=create_spectrogram(filename,'Dogbark4','predict')\n",
    "print(spectogram_path)\n"
   ]
  },
  {
   "cell_type": "code",
   "execution_count": null,
   "metadata": {},
   "outputs": [],
   "source": []
  },
  {
   "cell_type": "code",
   "execution_count": null,
   "metadata": {},
   "outputs": [],
   "source": []
  }
 ],
 "metadata": {
  "kernelspec": {
   "display_name": "Python 3",
   "language": "python",
   "name": "python3"
  },
  "language_info": {
   "codemirror_mode": {
    "name": "ipython",
    "version": 3
   },
   "file_extension": ".py",
   "mimetype": "text/x-python",
   "name": "python",
   "nbconvert_exporter": "python",
   "pygments_lexer": "ipython3",
   "version": "3.8.5"
  }
 },
 "nbformat": 4,
 "nbformat_minor": 4
}
